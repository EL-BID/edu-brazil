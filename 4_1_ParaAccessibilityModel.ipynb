{
 "cells": [
  {
   "attachments": {},
   "cell_type": "markdown",
   "metadata": {},
   "source": [
    "# Urbanpy model for Para"
   ]
  },
  {
   "attachments": {},
   "cell_type": "markdown",
   "metadata": {},
   "source": [
    "Start date: 2022-02-09\n",
    "Make sure the necessary packages are installed from the `pipenv` file created for this work.\n",
    "\n",
    "To do this, go to the local directory for this project, and in your terminal run:\n",
    "\n",
    "`pipenv install`\n",
    "\n",
    "Then, activate the environment by running \n",
    "\n",
    "`pipenv shell`\n",
    "\n",
    "**Note**: You may need to run `brew install gdal` in terminal and then `pip install urbanpy` in this notebook to get code below to run. Issue submitted about installation difficulties [here](https://github.com/EL-BID/urbanpy/issues/18)."
   ]
  },
  {
   "cell_type": "code",
   "execution_count": null,
   "metadata": {},
   "outputs": [],
   "source": [
    "import warnings\n",
    "\n",
    "warnings.filterwarnings(\"ignore\")\n",
    "\n",
    "import matplotlib.pyplot as plt\n",
    "\n",
    "plt.rcParams[\"figure.figsize\"] = (10, 10)\n",
    "\n",
    "# Only needed when git cloning the urbanpy repo\n",
    "# import sys\n",
    "# sys.path.append('..')\n",
    "\n",
    "import urbanpy as up\n",
    "import geopandas as gpd\n",
    "import numpy as np\n",
    "import pandas as pd\n",
    "import plotly.express as px\n",
    "\n",
    "from tqdm.notebook import tqdm\n",
    "\n",
    "tqdm.pandas()\n",
    "\n",
    "from pandarallel import pandarallel\n",
    "\n",
    "pandarallel.initialize(progress_bar=True, nb_workers=8)"
   ]
  },
  {
   "attachments": {},
   "cell_type": "markdown",
   "metadata": {},
   "source": [
    "## Read Para's hexagons"
   ]
  },
  {
   "cell_type": "code",
   "execution_count": null,
   "metadata": {},
   "outputs": [],
   "source": [
    "para_hexs = pd.read_csv(\"outputs/29112023_para_hexs_final.csv\", index_col=0)"
   ]
  },
  {
   "cell_type": "code",
   "execution_count": null,
   "metadata": {},
   "outputs": [],
   "source": [
    "para_hexs.head()"
   ]
  },
  {
   "cell_type": "code",
   "execution_count": null,
   "metadata": {},
   "outputs": [],
   "source": [
    "para_hexs.shape"
   ]
  },
  {
   "cell_type": "code",
   "execution_count": null,
   "metadata": {},
   "outputs": [],
   "source": [
    "para_hexs.columns"
   ]
  },
  {
   "cell_type": "code",
   "execution_count": null,
   "metadata": {},
   "outputs": [],
   "source": [
    "import h3\n",
    "from shapely.geometry import Polygon"
   ]
  },
  {
   "cell_type": "code",
   "execution_count": null,
   "metadata": {},
   "outputs": [],
   "source": [
    "Polygon(h3.h3_to_geo_boundary(\"888062d73dfffff\", geo_json=True))"
   ]
  },
  {
   "cell_type": "code",
   "execution_count": null,
   "metadata": {},
   "outputs": [],
   "source": [
    "para_hexs"
   ]
  },
  {
   "cell_type": "code",
   "execution_count": null,
   "metadata": {},
   "outputs": [],
   "source": [
    "%%timeit\n",
    "# Get polygon from h3 index\n",
    "para_hexs[\"geometry\"] = para_hexs[\"hex\"].apply(\n",
    "    lambda x: Polygon(h3.h3_to_geo_boundary(x, geo_json=True))\n",
    ")"
   ]
  },
  {
   "cell_type": "code",
   "execution_count": null,
   "metadata": {},
   "outputs": [],
   "source": [
    "%%timeit\n",
    "# Get polygon from h3 index\n",
    "para_hexs[\"geometry\"] = para_hexs[\"hex\"].parallel_apply(\n",
    "    lambda x: Polygon(h3.h3_to_geo_boundary(x, geo_json=True))\n",
    ")"
   ]
  },
  {
   "cell_type": "code",
   "execution_count": null,
   "metadata": {},
   "outputs": [],
   "source": [
    "para_hexs = gpd.GeoDataFrame(para_hexs, crs=\"4326\")"
   ]
  },
  {
   "attachments": {},
   "cell_type": "markdown",
   "metadata": {},
   "source": [
    "## Visualize the population data"
   ]
  },
  {
   "cell_type": "code",
   "execution_count": null,
   "metadata": {},
   "outputs": [],
   "source": [
    "if True:\n",
    "    fig = up.plotting.choropleth_map(\n",
    "        para_hexs.reset_index(drop=True),\n",
    "        \"population_2020\",\n",
    "        title=\"Para Population - 2020\",\n",
    "        zoom=8,\n",
    "        color_continuous_scale=\"Viridis\",\n",
    "        opacity=0.8,\n",
    "        labels={\"population_2020\": \"Pop. 2020\"},\n",
    "    )\n",
    "\n",
    "    fig.update_layout(\n",
    "        margin=dict(l=0, r=0, t=30, b=0),\n",
    "    )\n",
    "    fig.update_traces(marker_line_width=0)\n",
    "    fig.show()"
   ]
  },
  {
   "attachments": {},
   "cell_type": "markdown",
   "metadata": {},
   "source": [
    "## Urban accessibility - import high quality school data"
   ]
  },
  {
   "attachments": {},
   "cell_type": "markdown",
   "metadata": {},
   "source": [
    "These data are stored in a csv file named `brazil_schools_census_education_metrics.parquet` that we need to read."
   ]
  },
  {
   "cell_type": "code",
   "execution_count": null,
   "metadata": {},
   "outputs": [],
   "source": [
    "br_schools = gpd.read_parquet(\"outputs/brazil_schools_census_edu_metrics.parquet\")"
   ]
  },
  {
   "cell_type": "code",
   "execution_count": null,
   "metadata": {},
   "outputs": [],
   "source": [
    "br_schools.shape"
   ]
  },
  {
   "cell_type": "code",
   "execution_count": null,
   "metadata": {},
   "outputs": [],
   "source": [
    "br_schools.head(2)"
   ]
  },
  {
   "attachments": {},
   "cell_type": "markdown",
   "metadata": {},
   "source": [
    "## Subset schools\n",
    "\n",
    "Criteria:\n",
    "\n",
    "1. Only consider schools in Para\n",
    "1. Only consider Public schools\n",
    "1. Only consider schools that are active\n",
    "1. Only consider schools from the level Ensino Fundamental (6 - 14 years old)"
   ]
  },
  {
   "cell_type": "code",
   "execution_count": null,
   "metadata": {},
   "outputs": [],
   "source": [
    "# Create the filters\n",
    "state_filter = br_schools[\"abbrev_state\"] == \"PA\"\n",
    "admin_filter = br_schools[\"admin_category\"] == \"Pública\"\n",
    "service_filter = (\n",
    "    br_schools[\"service_restriction\"]\n",
    "    == \"ESCOLA EM FUNCIONAMENTO E SEM RESTRIÇÃO DE ATENDIMENTO\"\n",
    ")\n",
    "level_filter = br_schools[\"education_level\"].str.contains(\"Ensino Fundamental\")"
   ]
  },
  {
   "cell_type": "code",
   "execution_count": null,
   "metadata": {},
   "outputs": [],
   "source": [
    "# Apply the filters\n",
    "filtered_schools = br_schools[\n",
    "    state_filter & admin_filter & service_filter & level_filter\n",
    "]"
   ]
  },
  {
   "cell_type": "code",
   "execution_count": null,
   "metadata": {},
   "outputs": [],
   "source": [
    "# Print a small report with the number of schools and percentage of the total\n",
    "print(f\"Total number of schools: {len(br_schools)}\")\n",
    "print(f\"Number of schools selected: {len(filtered_schools)}\")\n",
    "print(f\"Percentage of the total: {len(filtered_schools) / len(br_schools) * 100:.2f}%\")"
   ]
  },
  {
   "attachments": {},
   "cell_type": "markdown",
   "metadata": {},
   "source": [
    "## Evaluate Accessibility"
   ]
  },
  {
   "cell_type": "code",
   "execution_count": null,
   "metadata": {},
   "outputs": [],
   "source": [
    "filtered_schools[\"lat\"] = filtered_schools.geometry.y\n",
    "filtered_schools[\"lon\"] = filtered_schools.geometry.x"
   ]
  },
  {
   "cell_type": "code",
   "execution_count": null,
   "metadata": {},
   "outputs": [],
   "source": [
    "filtered_schools = filtered_schools.dropna(subset=[\"lat\", \"lon\"])"
   ]
  },
  {
   "cell_type": "code",
   "execution_count": null,
   "metadata": {},
   "outputs": [],
   "source": [
    "para_hexs[\"lat\"] = para_hexs.geometry.centroid.y\n",
    "para_hexs[\"lon\"] = para_hexs.geometry.centroid.x"
   ]
  },
  {
   "attachments": {},
   "cell_type": "markdown",
   "metadata": {},
   "source": [
    "Get the nearest school from each hexagons centroid "
   ]
  },
  {
   "cell_type": "code",
   "execution_count": null,
   "metadata": {},
   "outputs": [],
   "source": [
    "dist_up, ind_up = up.utils.nn_search(\n",
    "    tree_features=filtered_schools[[\"lat\", \"lon\"]].values,  # These are the schools\n",
    "    query_features=para_hexs[\n",
    "        [\"lat\", \"lon\"]\n",
    "    ].values,  # Values are the centroids of each hexagon\n",
    "    metric=\"haversine\",\n",
    ")"
   ]
  },
  {
   "attachments": {},
   "cell_type": "markdown",
   "metadata": {},
   "source": [
    "This adds new column to indicate the index of the closest school for a particular hexagon"
   ]
  },
  {
   "cell_type": "code",
   "execution_count": null,
   "metadata": {},
   "outputs": [],
   "source": [
    "para_hexs[\"closest_school_id\"] = ind_up\n",
    "para_hexs[\"closest_school_dist\"] = dist_up"
   ]
  },
  {
   "attachments": {},
   "cell_type": "markdown",
   "metadata": {},
   "source": [
    "## Download data needed for Para"
   ]
  },
  {
   "cell_type": "code",
   "execution_count": null,
   "metadata": {},
   "outputs": [],
   "source": [
    "!cd ~/data/osrm && wget https://download.geofabrik.de/south-america/brazil/norte-latest.osm.pbf"
   ]
  },
  {
   "attachments": {},
   "cell_type": "markdown",
   "metadata": {},
   "source": [
    "## Start the OSRM server"
   ]
  },
  {
   "cell_type": "code",
   "execution_count": null,
   "metadata": {},
   "outputs": [],
   "source": [
    "# Download unix_download.sh file from github repo\n",
    "!cd .env/lib/python3.11/site-packages/urbanpy/routing/ && wget https://raw.githubusercontent.com/EL-BID/urbanpy/master/urbanpy/routing/unix_download.sh"
   ]
  },
  {
   "cell_type": "code",
   "execution_count": null,
   "metadata": {},
   "outputs": [],
   "source": [
    "wget https://download.geofabrik.de/$3/$2-latest.osm.pbf"
   ]
  },
  {
   "cell_type": "code",
   "execution_count": null,
   "metadata": {},
   "outputs": [],
   "source": [
    "up.routing.start_osrm_server(\"norte\", \"south-america_brazil\", \"foot\")"
   ]
  },
  {
   "attachments": {},
   "cell_type": "markdown",
   "metadata": {},
   "source": [
    "Then we can do our distance and duration calculations"
   ]
  },
  {
   "cell_type": "code",
   "execution_count": null,
   "metadata": {},
   "outputs": [],
   "source": [
    "distance_duration_para_by_foot = para_hexs.parallel_apply(\n",
    "    lambda row: up.routing.osrm_route(\n",
    "        origin=row.geometry.centroid,\n",
    "        destination=filtered_schools.iloc[row[\"closest_school_id\"]][\"geometry\"],\n",
    "    ),\n",
    "    result_type=\"expand\",\n",
    "    axis=1,\n",
    ")"
   ]
  },
  {
   "attachments": {},
   "cell_type": "markdown",
   "metadata": {},
   "source": [
    "## Inspect results"
   ]
  },
  {
   "cell_type": "code",
   "execution_count": null,
   "metadata": {},
   "outputs": [],
   "source": [
    "para_hexs[\"distance_to_school_km_by_foot\"] = (\n",
    "    distance_duration_para_by_foot[0] / 1000\n",
    ")  # meters to kilometers\n",
    "para_hexs[\"duration_to_school_min_by_foot\"] = (\n",
    "    distance_duration_para_by_foot[1] / 60\n",
    ")  # seconds to minutes"
   ]
  },
  {
   "cell_type": "code",
   "execution_count": null,
   "metadata": {},
   "outputs": [],
   "source": [
    "# Once we have finished with the OSRM server we stop it\n",
    "up.routing.stop_osrm_server(\"norte\", \"south-america_brazil\", \"foot\")"
   ]
  },
  {
   "attachments": {},
   "cell_type": "markdown",
   "metadata": {},
   "source": [
    "## Create map for travel times by foot to nearest schools"
   ]
  },
  {
   "cell_type": "code",
   "execution_count": null,
   "metadata": {},
   "outputs": [],
   "source": [
    "para_hexs[\"duration_to_school_min_by_foot\"].describe()"
   ]
  },
  {
   "cell_type": "code",
   "execution_count": null,
   "metadata": {},
   "outputs": [],
   "source": [
    "# Reset index is needed to avoid an error with plotly choropleth_map\n",
    "fig = up.plotting.choropleth_map(\n",
    "    para_hexs.reset_index(drop=True),\n",
    "    \"duration_to_school_min_by_foot\",\n",
    "    title=\"Para Estimated travel times to school by foot\",\n",
    "    zoom=8,\n",
    "    color_continuous_scale=\"Plasma_r\",\n",
    "    opacity=0.6,\n",
    "    labels={\"duration_to_school_min\": \"Duration (min)\"},\n",
    ")\n",
    "\n",
    "fig.update_layout(\n",
    "    margin=dict(l=0, r=0, t=50, b=0),\n",
    ")\n",
    "fig.update_traces(marker_line_width=0.0)\n",
    "fig.show()"
   ]
  },
  {
   "attachments": {},
   "cell_type": "markdown",
   "metadata": {},
   "source": [
    "## Making map with bins of duration"
   ]
  },
  {
   "attachments": {},
   "cell_type": "markdown",
   "metadata": {},
   "source": [
    "First get default categories"
   ]
  },
  {
   "cell_type": "code",
   "execution_count": null,
   "metadata": {},
   "outputs": [],
   "source": [
    "custom_bins, custom_labels = up.utils.create_duration_labels(\n",
    "    hex_para[\"duration_to_school_min\"]\n",
    ")\n",
    "print(custom_bins)\n",
    "print(custom_labels)"
   ]
  },
  {
   "attachments": {},
   "cell_type": "markdown",
   "metadata": {},
   "source": [
    "Then convert from numerical to categorical"
   ]
  },
  {
   "cell_type": "code",
   "execution_count": null,
   "metadata": {},
   "outputs": [],
   "source": [
    "hex_para[\"duration_column_categories\"] = pd.cut(\n",
    "    hex_para[\"duration_to_school_min\"], bins=custom_bins, labels=custom_labels\n",
    ")"
   ]
  },
  {
   "attachments": {},
   "cell_type": "markdown",
   "metadata": {},
   "source": [
    "Then plot"
   ]
  },
  {
   "cell_type": "code",
   "execution_count": null,
   "metadata": {},
   "outputs": [],
   "source": [
    "map_figure = up.plotting.choropleth_map(\n",
    "    hex_para.reset_index(drop=True),\n",
    "    \"duration_column_categories\",\n",
    "    zoom=5,\n",
    "    opacity=0.6,\n",
    "    title=state + \". Estimated travel times to school by foot\",\n",
    "    color_discrete_sequence=px.colors.sequential.Plasma_r,\n",
    "    category_orders={\"duration_column_categories\": custom_labels},\n",
    "    labels={\"duration_column_categories\": \"Duration (minutes)\"},\n",
    ")\n",
    "\n",
    "map_figure.update_layout(\n",
    "    margin=dict(l=0, r=0, t=50, b=0),\n",
    ")\n",
    "map_figure.update_traces(marker_line_width=0.0)\n",
    "map_figure.show()"
   ]
  },
  {
   "cell_type": "code",
   "execution_count": null,
   "metadata": {},
   "outputs": [],
   "source": [
    "up.routing.start_osrm_server(\"norte\", \"south-america_brazil\", \"car\")"
   ]
  },
  {
   "cell_type": "code",
   "execution_count": null,
   "metadata": {},
   "outputs": [],
   "source": [
    "distance_duration_para_by_car = para_hexs.parallel_apply(\n",
    "    lambda row: up.routing.osrm_route(\n",
    "        origin=row.geometry.centroid,\n",
    "        destination=filtered_schools.iloc[row[\"closest_school_id\"]][\"geometry\"],\n",
    "    ),\n",
    "    result_type=\"expand\",\n",
    "    axis=1,\n",
    ")"
   ]
  },
  {
   "cell_type": "code",
   "execution_count": null,
   "metadata": {},
   "outputs": [],
   "source": [
    "para_hexs[\"distance_to_school_km_by_car\"] = (\n",
    "    distance_duration_para_by_car[0] / 1000\n",
    ")  # meters to kilometers\n",
    "para_hexs[\"duration_to_school_min_by_car\"] = (\n",
    "    distance_duration_para_by_car[1] / 60\n",
    ")  # seconds to minutes"
   ]
  },
  {
   "cell_type": "code",
   "execution_count": null,
   "metadata": {},
   "outputs": [],
   "source": [
    "# Once we have finished with the OSRM server we stop it\n",
    "up.routing.stop_osrm_server(\"norte\", \"south-america_brazil\", \"car\")"
   ]
  },
  {
   "cell_type": "code",
   "execution_count": null,
   "metadata": {},
   "outputs": [],
   "source": []
  }
 ],
 "metadata": {
  "kernelspec": {
   "display_name": "Python 3",
   "language": "python",
   "name": "python3"
  },
  "language_info": {
   "codemirror_mode": {
    "name": "ipython",
    "version": 3
   },
   "file_extension": ".py",
   "mimetype": "text/x-python",
   "name": "python",
   "nbconvert_exporter": "python",
   "pygments_lexer": "ipython3",
   "version": "3.11.6"
  },
  "orig_nbformat": 4,
  "vscode": {
   "interpreter": {
    "hash": "3ad933181bd8a04b432d3370b9dc3b0662ad032c4dfaa4e4f1596c548f763858"
   }
  }
 },
 "nbformat": 4,
 "nbformat_minor": 2
}
