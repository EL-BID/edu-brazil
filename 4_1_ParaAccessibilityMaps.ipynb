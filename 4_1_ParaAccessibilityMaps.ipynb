{
 "cells": [
  {
   "attachments": {},
   "cell_type": "markdown",
   "metadata": {},
   "source": [
    "# Urbanpy model for Para\n"
   ]
  },
  {
   "attachments": {},
   "cell_type": "markdown",
   "metadata": {},
   "source": [
    "Start date: 2022-02-09\n",
    "Make sure the necessary packages are installed from the `pipenv` file created for this work.\n",
    "\n",
    "To do this, go to the local directory for this project, and in your terminal run:\n",
    "\n",
    "`pipenv install`\n",
    "\n",
    "Then, activate the environment by running\n",
    "\n",
    "`pipenv shell`\n",
    "\n",
    "**Note**: You may need to run `brew install gdal` in terminal and then `pip install urbanpy` in this notebook to get code below to run. Issue submitted about installation difficulties [here](https://github.com/EL-BID/urbanpy/issues/18).\n"
   ]
  },
  {
   "cell_type": "code",
   "execution_count": 1,
   "metadata": {},
   "outputs": [
    {
     "name": "stdout",
     "output_type": "stream",
     "text": [
      "INFO: Pandarallel will run on 10 workers.\n",
      "INFO: Pandarallel will use standard multiprocessing data transfer (pipe) to transfer data between the main process and workers.\n"
     ]
    }
   ],
   "source": [
    "import warnings\n",
    "\n",
    "warnings.filterwarnings(\"ignore\")\n",
    "\n",
    "import matplotlib.pyplot as plt\n",
    "\n",
    "plt.rcParams[\"figure.figsize\"] = (10, 10)\n",
    "\n",
    "# Only needed when git cloning the urbanpy repo\n",
    "# import sys\n",
    "# sys.path.append('..')\n",
    "\n",
    "import urbanpy as up\n",
    "import geopandas as gpd\n",
    "import numpy as np\n",
    "import pandas as pd\n",
    "import plotly.express as px\n",
    "import os\n",
    "import time\n",
    "\n",
    "from tqdm.notebook import tqdm\n",
    "\n",
    "tqdm.pandas()\n",
    "\n",
    "from pandarallel import pandarallel\n",
    "\n",
    "cores = os.cpu_count()\n",
    "\n",
    "# Adjust the number of workers to your setup (computer & docker)\n",
    "pandarallel.initialize(progress_bar=True, nb_workers=cores)"
   ]
  },
  {
   "cell_type": "code",
   "execution_count": 2,
   "metadata": {},
   "outputs": [],
   "source": [
    "import h3\n",
    "from shapely.geometry import Polygon"
   ]
  },
  {
   "attachments": {},
   "cell_type": "markdown",
   "metadata": {},
   "source": [
    "## Read Para's hexagons\n"
   ]
  },
  {
   "cell_type": "code",
   "execution_count": 3,
   "metadata": {},
   "outputs": [],
   "source": [
    "para_hexs = pd.read_csv(\"outputs/29112023_para_hexs_final.csv\", index_col=0)"
   ]
  },
  {
   "cell_type": "code",
   "execution_count": 4,
   "metadata": {},
   "outputs": [
    {
     "data": {
      "text/html": [
       "<div>\n",
       "<style scoped>\n",
       "    .dataframe tbody tr th:only-of-type {\n",
       "        vertical-align: middle;\n",
       "    }\n",
       "\n",
       "    .dataframe tbody tr th {\n",
       "        vertical-align: top;\n",
       "    }\n",
       "\n",
       "    .dataframe thead th {\n",
       "        text-align: right;\n",
       "    }\n",
       "</style>\n",
       "<table border=\"1\" class=\"dataframe\">\n",
       "  <thead>\n",
       "    <tr style=\"text-align: right;\">\n",
       "      <th></th>\n",
       "      <th>hex</th>\n",
       "      <th>population_2020</th>\n",
       "      <th>pop_3_5_years_adj</th>\n",
       "      <th>pop_6_14_years_adj</th>\n",
       "      <th>pop_15_17_years_adj</th>\n",
       "      <th>pop_18_years_adj</th>\n",
       "      <th>V002_adj</th>\n",
       "      <th>V003_adj</th>\n",
       "      <th>income_pc</th>\n",
       "      <th>ensino_fundamental</th>\n",
       "      <th>...</th>\n",
       "      <th>AVG_QT_TUR_MED</th>\n",
       "      <th>AVG_QT_TUR_PROF</th>\n",
       "      <th>AVG_QT_TUR_PROF_TEC</th>\n",
       "      <th>AVG_QT_TUR_EJA</th>\n",
       "      <th>AVG_QT_TUR_EJA_FUND</th>\n",
       "      <th>AVG_QT_TUR_EJA_MED</th>\n",
       "      <th>AVG_QT_TUR_ESP</th>\n",
       "      <th>AVG_QT_TUR_ESP_CC</th>\n",
       "      <th>AVG_QT_TUR_ESP_CE</th>\n",
       "      <th>urban_area</th>\n",
       "    </tr>\n",
       "  </thead>\n",
       "  <tbody>\n",
       "    <tr>\n",
       "      <th>0</th>\n",
       "      <td>888062d73dfffff</td>\n",
       "      <td>328.677081</td>\n",
       "      <td>464.000000</td>\n",
       "      <td>74.000000</td>\n",
       "      <td>7.000000</td>\n",
       "      <td>2.000000</td>\n",
       "      <td>1741.000000</td>\n",
       "      <td>110501.000000</td>\n",
       "      <td>63.469845</td>\n",
       "      <td>1.0</td>\n",
       "      <td>...</td>\n",
       "      <td>0.0</td>\n",
       "      <td>0.0</td>\n",
       "      <td>0.0</td>\n",
       "      <td>0.0</td>\n",
       "      <td>0.0</td>\n",
       "      <td>0.0</td>\n",
       "      <td>2.0</td>\n",
       "      <td>2.0</td>\n",
       "      <td>0.0</td>\n",
       "      <td>0</td>\n",
       "    </tr>\n",
       "    <tr>\n",
       "      <th>25</th>\n",
       "      <td>8880669749fffff</td>\n",
       "      <td>6.645306</td>\n",
       "      <td>0.620557</td>\n",
       "      <td>0.214808</td>\n",
       "      <td>0.031823</td>\n",
       "      <td>0.039779</td>\n",
       "      <td>6.491976</td>\n",
       "      <td>1138.092715</td>\n",
       "      <td>175.307598</td>\n",
       "      <td>NaN</td>\n",
       "      <td>...</td>\n",
       "      <td>NaN</td>\n",
       "      <td>NaN</td>\n",
       "      <td>NaN</td>\n",
       "      <td>NaN</td>\n",
       "      <td>NaN</td>\n",
       "      <td>NaN</td>\n",
       "      <td>NaN</td>\n",
       "      <td>NaN</td>\n",
       "      <td>NaN</td>\n",
       "      <td>0</td>\n",
       "    </tr>\n",
       "    <tr>\n",
       "      <th>35</th>\n",
       "      <td>888a92cb25fffff</td>\n",
       "      <td>19.246575</td>\n",
       "      <td>10.420928</td>\n",
       "      <td>4.408854</td>\n",
       "      <td>1.002012</td>\n",
       "      <td>0.200402</td>\n",
       "      <td>61.122752</td>\n",
       "      <td>14736.595316</td>\n",
       "      <td>241.098361</td>\n",
       "      <td>NaN</td>\n",
       "      <td>...</td>\n",
       "      <td>NaN</td>\n",
       "      <td>NaN</td>\n",
       "      <td>NaN</td>\n",
       "      <td>NaN</td>\n",
       "      <td>NaN</td>\n",
       "      <td>NaN</td>\n",
       "      <td>NaN</td>\n",
       "      <td>NaN</td>\n",
       "      <td>NaN</td>\n",
       "      <td>0</td>\n",
       "    </tr>\n",
       "    <tr>\n",
       "      <th>40</th>\n",
       "      <td>8881439147fffff</td>\n",
       "      <td>5.421374</td>\n",
       "      <td>0.617580</td>\n",
       "      <td>0.420769</td>\n",
       "      <td>0.067866</td>\n",
       "      <td>0.020360</td>\n",
       "      <td>4.044809</td>\n",
       "      <td>801.679859</td>\n",
       "      <td>198.199664</td>\n",
       "      <td>NaN</td>\n",
       "      <td>...</td>\n",
       "      <td>NaN</td>\n",
       "      <td>NaN</td>\n",
       "      <td>NaN</td>\n",
       "      <td>NaN</td>\n",
       "      <td>NaN</td>\n",
       "      <td>NaN</td>\n",
       "      <td>NaN</td>\n",
       "      <td>NaN</td>\n",
       "      <td>NaN</td>\n",
       "      <td>0</td>\n",
       "    </tr>\n",
       "    <tr>\n",
       "      <th>46</th>\n",
       "      <td>88806dc2b3fffff</td>\n",
       "      <td>6.842970</td>\n",
       "      <td>4.088244</td>\n",
       "      <td>1.233839</td>\n",
       "      <td>0.257817</td>\n",
       "      <td>0.073662</td>\n",
       "      <td>25.229252</td>\n",
       "      <td>2125.739460</td>\n",
       "      <td>84.256934</td>\n",
       "      <td>NaN</td>\n",
       "      <td>...</td>\n",
       "      <td>NaN</td>\n",
       "      <td>NaN</td>\n",
       "      <td>NaN</td>\n",
       "      <td>NaN</td>\n",
       "      <td>NaN</td>\n",
       "      <td>NaN</td>\n",
       "      <td>NaN</td>\n",
       "      <td>NaN</td>\n",
       "      <td>NaN</td>\n",
       "      <td>0</td>\n",
       "    </tr>\n",
       "  </tbody>\n",
       "</table>\n",
       "<p>5 rows × 193 columns</p>\n",
       "</div>"
      ],
      "text/plain": [
       "                hex  population_2020  pop_3_5_years_adj  pop_6_14_years_adj  \\\n",
       "0   888062d73dfffff       328.677081         464.000000           74.000000   \n",
       "25  8880669749fffff         6.645306           0.620557            0.214808   \n",
       "35  888a92cb25fffff        19.246575          10.420928            4.408854   \n",
       "40  8881439147fffff         5.421374           0.617580            0.420769   \n",
       "46  88806dc2b3fffff         6.842970           4.088244            1.233839   \n",
       "\n",
       "    pop_15_17_years_adj  pop_18_years_adj     V002_adj       V003_adj  \\\n",
       "0              7.000000          2.000000  1741.000000  110501.000000   \n",
       "25             0.031823          0.039779     6.491976    1138.092715   \n",
       "35             1.002012          0.200402    61.122752   14736.595316   \n",
       "40             0.067866          0.020360     4.044809     801.679859   \n",
       "46             0.257817          0.073662    25.229252    2125.739460   \n",
       "\n",
       "     income_pc  ensino_fundamental  ...  AVG_QT_TUR_MED  AVG_QT_TUR_PROF  \\\n",
       "0    63.469845                 1.0  ...             0.0              0.0   \n",
       "25  175.307598                 NaN  ...             NaN              NaN   \n",
       "35  241.098361                 NaN  ...             NaN              NaN   \n",
       "40  198.199664                 NaN  ...             NaN              NaN   \n",
       "46   84.256934                 NaN  ...             NaN              NaN   \n",
       "\n",
       "    AVG_QT_TUR_PROF_TEC  AVG_QT_TUR_EJA  AVG_QT_TUR_EJA_FUND  \\\n",
       "0                   0.0             0.0                  0.0   \n",
       "25                  NaN             NaN                  NaN   \n",
       "35                  NaN             NaN                  NaN   \n",
       "40                  NaN             NaN                  NaN   \n",
       "46                  NaN             NaN                  NaN   \n",
       "\n",
       "    AVG_QT_TUR_EJA_MED  AVG_QT_TUR_ESP  AVG_QT_TUR_ESP_CC  AVG_QT_TUR_ESP_CE  \\\n",
       "0                  0.0             2.0                2.0                0.0   \n",
       "25                 NaN             NaN                NaN                NaN   \n",
       "35                 NaN             NaN                NaN                NaN   \n",
       "40                 NaN             NaN                NaN                NaN   \n",
       "46                 NaN             NaN                NaN                NaN   \n",
       "\n",
       "    urban_area  \n",
       "0            0  \n",
       "25           0  \n",
       "35           0  \n",
       "40           0  \n",
       "46           0  \n",
       "\n",
       "[5 rows x 193 columns]"
      ]
     },
     "execution_count": 4,
     "metadata": {},
     "output_type": "execute_result"
    }
   ],
   "source": [
    "para_hexs.head()"
   ]
  },
  {
   "cell_type": "code",
   "execution_count": 5,
   "metadata": {},
   "outputs": [
    {
     "data": {
      "text/plain": [
       "(132361, 193)"
      ]
     },
     "execution_count": 5,
     "metadata": {},
     "output_type": "execute_result"
    }
   ],
   "source": [
    "para_hexs.shape"
   ]
  },
  {
   "cell_type": "code",
   "execution_count": 6,
   "metadata": {},
   "outputs": [
    {
     "data": {
      "text/plain": [
       "Index(['hex', 'population_2020', 'pop_3_5_years_adj', 'pop_6_14_years_adj',\n",
       "       'pop_15_17_years_adj', 'pop_18_years_adj', 'V002_adj', 'V003_adj',\n",
       "       'income_pc', 'ensino_fundamental',\n",
       "       ...\n",
       "       'AVG_QT_TUR_MED', 'AVG_QT_TUR_PROF', 'AVG_QT_TUR_PROF_TEC',\n",
       "       'AVG_QT_TUR_EJA', 'AVG_QT_TUR_EJA_FUND', 'AVG_QT_TUR_EJA_MED',\n",
       "       'AVG_QT_TUR_ESP', 'AVG_QT_TUR_ESP_CC', 'AVG_QT_TUR_ESP_CE',\n",
       "       'urban_area'],\n",
       "      dtype='object', length=193)"
      ]
     },
     "execution_count": 6,
     "metadata": {},
     "output_type": "execute_result"
    }
   ],
   "source": [
    "para_hexs.columns"
   ]
  },
  {
   "cell_type": "code",
   "execution_count": 7,
   "metadata": {},
   "outputs": [
    {
     "data": {
      "application/vnd.jupyter.widget-view+json": {
       "model_id": "a04b0dd7a10240518c243389b4382093",
       "version_major": 2,
       "version_minor": 0
      },
      "text/plain": [
       "VBox(children=(HBox(children=(IntProgress(value=0, description='0.00%', max=13237), Label(value='0 / 13237')))…"
      ]
     },
     "metadata": {},
     "output_type": "display_data"
    },
    {
     "name": "stdout",
     "output_type": "stream",
     "text": [
      "CPU times: user 393 ms, sys: 138 ms, total: 531 ms\n",
      "Wall time: 883 ms\n"
     ]
    }
   ],
   "source": [
    "%%time\n",
    "# Get polygon from h3 index\n",
    "para_hexs[\"geometry\"] = para_hexs[\"hex\"].parallel_apply(\n",
    "    lambda x: Polygon(h3.h3_to_geo_boundary(x, geo_json=True))\n",
    ")"
   ]
  },
  {
   "cell_type": "code",
   "execution_count": 8,
   "metadata": {},
   "outputs": [],
   "source": [
    "para_hexs = gpd.GeoDataFrame(para_hexs, crs=\"4326\")"
   ]
  },
  {
   "attachments": {},
   "cell_type": "markdown",
   "metadata": {},
   "source": [
    "## Visualize the population data\n"
   ]
  },
  {
   "cell_type": "code",
   "execution_count": 9,
   "metadata": {},
   "outputs": [],
   "source": [
    "if False:\n",
    "    fig = up.plotting.choropleth_map(\n",
    "        para_hexs.reset_index(drop=True),\n",
    "        \"population_2020\",\n",
    "        title=\"Para Population - 2020\",\n",
    "        zoom=8,\n",
    "        color_continuous_scale=\"Viridis\",\n",
    "        opacity=0.1,\n",
    "        labels={\"population_2020\": \"Pop. 2020\"},\n",
    "    )\n",
    "\n",
    "    fig.update_layout(\n",
    "        margin=dict(l=0, r=0, t=30, b=0),\n",
    "    )\n",
    "    fig.update_traces(marker_line_width=0)\n",
    "    fig.show()"
   ]
  },
  {
   "attachments": {},
   "cell_type": "markdown",
   "metadata": {},
   "source": [
    "## Urban accessibility - import high quality school data\n"
   ]
  },
  {
   "attachments": {},
   "cell_type": "markdown",
   "metadata": {},
   "source": [
    "These data are stored in a csv file named `brazil_schools_census_education_metrics.parquet` that we need to read.\n"
   ]
  },
  {
   "cell_type": "code",
   "execution_count": 10,
   "metadata": {},
   "outputs": [],
   "source": [
    "br_schools = gpd.read_parquet(\"outputs/brazil_schools_census_edu_metrics.parquet\")"
   ]
  },
  {
   "cell_type": "code",
   "execution_count": 11,
   "metadata": {},
   "outputs": [
    {
     "data": {
      "text/plain": [
       "(222936, 147)"
      ]
     },
     "execution_count": 11,
     "metadata": {},
     "output_type": "execute_result"
    }
   ],
   "source": [
    "br_schools.shape"
   ]
  },
  {
   "cell_type": "code",
   "execution_count": 12,
   "metadata": {},
   "outputs": [
    {
     "data": {
      "text/html": [
       "<div>\n",
       "<style scoped>\n",
       "    .dataframe tbody tr th:only-of-type {\n",
       "        vertical-align: middle;\n",
       "    }\n",
       "\n",
       "    .dataframe tbody tr th {\n",
       "        vertical-align: top;\n",
       "    }\n",
       "\n",
       "    .dataframe thead th {\n",
       "        text-align: right;\n",
       "    }\n",
       "</style>\n",
       "<table border=\"1\" class=\"dataframe\">\n",
       "  <thead>\n",
       "    <tr style=\"text-align: right;\">\n",
       "      <th></th>\n",
       "      <th>abbrev_state</th>\n",
       "      <th>name_muni</th>\n",
       "      <th>code_school</th>\n",
       "      <th>name_school</th>\n",
       "      <th>education_level</th>\n",
       "      <th>education_level_others</th>\n",
       "      <th>admin_category</th>\n",
       "      <th>address</th>\n",
       "      <th>phone_number</th>\n",
       "      <th>government_level</th>\n",
       "      <th>...</th>\n",
       "      <th>FUN_07_CAT_0</th>\n",
       "      <th>FUN_08_CAT_0</th>\n",
       "      <th>FUN_09_CAT_0</th>\n",
       "      <th>MULT_ETA_CAT_0</th>\n",
       "      <th>MED_CAT_0</th>\n",
       "      <th>MED_01_CAT_0</th>\n",
       "      <th>MED_02_CAT_0</th>\n",
       "      <th>MED_03_CAT_0</th>\n",
       "      <th>MED_04_CAT_0</th>\n",
       "      <th>MED_NS_CAT_0</th>\n",
       "    </tr>\n",
       "  </thead>\n",
       "  <tbody>\n",
       "    <tr>\n",
       "      <th>0</th>\n",
       "      <td>RO</td>\n",
       "      <td>Porto Velho</td>\n",
       "      <td>11000023</td>\n",
       "      <td>EEEE ABNAEL MACHADO DE LIMA - CENE</td>\n",
       "      <td>Ensino Fundamental</td>\n",
       "      <td>Atendimento Educacional Especializado</td>\n",
       "      <td>Pública</td>\n",
       "      <td>AVENIDA AMAZONAS, 6492 ZONA LESTE. TIRADENTES....</td>\n",
       "      <td>(69) 992083054</td>\n",
       "      <td>Estadual</td>\n",
       "      <td>...</td>\n",
       "      <td>NaN</td>\n",
       "      <td>NaN</td>\n",
       "      <td>NaN</td>\n",
       "      <td>NaN</td>\n",
       "      <td>NaN</td>\n",
       "      <td>NaN</td>\n",
       "      <td>NaN</td>\n",
       "      <td>NaN</td>\n",
       "      <td>NaN</td>\n",
       "      <td>NaN</td>\n",
       "    </tr>\n",
       "    <tr>\n",
       "      <th>1</th>\n",
       "      <td>RO</td>\n",
       "      <td>Porto Velho</td>\n",
       "      <td>11000040</td>\n",
       "      <td>EMEIEF PEQUENOS TALENTOS</td>\n",
       "      <td>Educação Infantil</td>\n",
       "      <td></td>\n",
       "      <td>Pública</td>\n",
       "      <td>RUA CAETANO, 3256 PREDIO. CALADINHO. 76808-108...</td>\n",
       "      <td>(69) 32135237</td>\n",
       "      <td>Municipal</td>\n",
       "      <td>...</td>\n",
       "      <td>NaN</td>\n",
       "      <td>NaN</td>\n",
       "      <td>NaN</td>\n",
       "      <td>NaN</td>\n",
       "      <td>NaN</td>\n",
       "      <td>NaN</td>\n",
       "      <td>NaN</td>\n",
       "      <td>NaN</td>\n",
       "      <td>NaN</td>\n",
       "      <td>NaN</td>\n",
       "    </tr>\n",
       "  </tbody>\n",
       "</table>\n",
       "<p>2 rows × 147 columns</p>\n",
       "</div>"
      ],
      "text/plain": [
       "  abbrev_state    name_muni  code_school                         name_school  \\\n",
       "0           RO  Porto Velho     11000023  EEEE ABNAEL MACHADO DE LIMA - CENE   \n",
       "1           RO  Porto Velho     11000040            EMEIEF PEQUENOS TALENTOS   \n",
       "\n",
       "      education_level                 education_level_others admin_category  \\\n",
       "0  Ensino Fundamental  Atendimento Educacional Especializado        Pública   \n",
       "1   Educação Infantil                                               Pública   \n",
       "\n",
       "                                             address    phone_number  \\\n",
       "0  AVENIDA AMAZONAS, 6492 ZONA LESTE. TIRADENTES....  (69) 992083054   \n",
       "1  RUA CAETANO, 3256 PREDIO. CALADINHO. 76808-108...   (69) 32135237   \n",
       "\n",
       "  government_level  ... FUN_07_CAT_0 FUN_08_CAT_0 FUN_09_CAT_0 MULT_ETA_CAT_0  \\\n",
       "0         Estadual  ...          NaN          NaN          NaN            NaN   \n",
       "1        Municipal  ...          NaN          NaN          NaN            NaN   \n",
       "\n",
       "  MED_CAT_0 MED_01_CAT_0 MED_02_CAT_0 MED_03_CAT_0 MED_04_CAT_0 MED_NS_CAT_0  \n",
       "0       NaN          NaN          NaN          NaN          NaN          NaN  \n",
       "1       NaN          NaN          NaN          NaN          NaN          NaN  \n",
       "\n",
       "[2 rows x 147 columns]"
      ]
     },
     "execution_count": 12,
     "metadata": {},
     "output_type": "execute_result"
    }
   ],
   "source": [
    "br_schools.head(2)"
   ]
  },
  {
   "cell_type": "code",
   "execution_count": 13,
   "metadata": {},
   "outputs": [],
   "source": [
    "# Apply the filters\n",
    "# Only schools that are active\n",
    "active_filter = (\n",
    "    br_schools[\"service_restriction\"]\n",
    "    == \"ESCOLA EM FUNCIONAMENTO E SEM RESTRIÇÃO DE ATENDIMENTO\"\n",
    ")\n",
    "state_filter = br_schools[\"abbrev_state\"] == \"PA\"\n",
    "filtered_schools = br_schools[active_filter & state_filter]"
   ]
  },
  {
   "cell_type": "code",
   "execution_count": 14,
   "metadata": {},
   "outputs": [
    {
     "name": "stdout",
     "output_type": "stream",
     "text": [
      "Total number of schools: 222936\n",
      "Number of schools selected: 10755\n",
      "Percentage of the total: 4.82%\n"
     ]
    }
   ],
   "source": [
    "# Print a small report with the number of schools and percentage of the total\n",
    "print(f\"Total number of schools: {len(br_schools)}\")\n",
    "print(f\"Number of schools selected: {len(filtered_schools)}\")\n",
    "print(f\"Percentage of the total: {len(filtered_schools) / len(br_schools) * 100:.2f}%\")"
   ]
  },
  {
   "attachments": {},
   "cell_type": "markdown",
   "metadata": {},
   "source": [
    "## Evaluate Accessibility\n"
   ]
  },
  {
   "cell_type": "code",
   "execution_count": 15,
   "metadata": {},
   "outputs": [],
   "source": [
    "filtered_schools[\"lat\"] = filtered_schools.geometry.y\n",
    "filtered_schools[\"lon\"] = filtered_schools.geometry.x"
   ]
  },
  {
   "cell_type": "code",
   "execution_count": 16,
   "metadata": {},
   "outputs": [
    {
     "data": {
      "text/plain": [
       "2404"
      ]
     },
     "execution_count": 16,
     "metadata": {},
     "output_type": "execute_result"
    }
   ],
   "source": [
    "filtered_schools.geometry.x.isna().sum()"
   ]
  },
  {
   "cell_type": "code",
   "execution_count": 17,
   "metadata": {},
   "outputs": [],
   "source": [
    "filtered_schools = filtered_schools.dropna(subset=[\"lat\", \"lon\"])"
   ]
  },
  {
   "cell_type": "code",
   "execution_count": 18,
   "metadata": {},
   "outputs": [],
   "source": [
    "para_hexs[\"lat\"] = para_hexs.geometry.centroid.y\n",
    "para_hexs[\"lon\"] = para_hexs.geometry.centroid.x"
   ]
  },
  {
   "attachments": {},
   "cell_type": "markdown",
   "metadata": {},
   "source": [
    "Get the nearest school from each hexagons centroid\n"
   ]
  },
  {
   "cell_type": "code",
   "execution_count": 19,
   "metadata": {},
   "outputs": [],
   "source": [
    "dist_up, ind_up = up.utils.nn_search(\n",
    "    # These are the schools\n",
    "    tree_features=filtered_schools[[\"lat\", \"lon\"]].values,\n",
    "    # Values are the centroids of each hexagon\n",
    "    query_features=para_hexs[[\"lat\", \"lon\"]].values,\n",
    "    metric=\"haversine\",\n",
    ")"
   ]
  },
  {
   "attachments": {},
   "cell_type": "markdown",
   "metadata": {},
   "source": [
    "This adds new column to indicate the index of the closest school for a particular hexagon\n"
   ]
  },
  {
   "cell_type": "code",
   "execution_count": 20,
   "metadata": {},
   "outputs": [],
   "source": [
    "para_hexs[\"closest_school_id\"] = ind_up\n",
    "para_hexs[\"closest_school_dist\"] = dist_up"
   ]
  },
  {
   "attachments": {},
   "cell_type": "markdown",
   "metadata": {},
   "source": [
    "## Download data needed for Para\n"
   ]
  },
  {
   "cell_type": "code",
   "execution_count": 21,
   "metadata": {},
   "outputs": [
    {
     "name": "stdout",
     "output_type": "stream",
     "text": [
      "File ‘norte-latest.osm.pbf’ already there; not retrieving.\n",
      "\n"
     ]
    }
   ],
   "source": [
    "!cd ~/data/osrm && wget -nc https://download.geofabrik.de/south-america/brazil/norte-latest.osm.pbf"
   ]
  },
  {
   "attachments": {},
   "cell_type": "markdown",
   "metadata": {},
   "source": [
    "## Start the OSRM server\n"
   ]
  },
  {
   "cell_type": "code",
   "execution_count": 22,
   "metadata": {},
   "outputs": [
    {
     "name": "stdout",
     "output_type": "stream",
     "text": [
      "File ‘unix_download.sh’ already there; not retrieving.\n",
      "\n"
     ]
    }
   ],
   "source": [
    "# Download unix_download.sh file from github repo\n",
    "!cd .env/lib/python3.11/site-packages/urbanpy/routing/ && wget -nc https://raw.githubusercontent.com/EL-BID/urbanpy/master/urbanpy/routing/unix_download.sh"
   ]
  },
  {
   "cell_type": "code",
   "execution_count": 23,
   "metadata": {},
   "outputs": [],
   "source": [
    "# Set the travel profile\n",
    "PROFILE = \"foot\""
   ]
  },
  {
   "cell_type": "code",
   "execution_count": 24,
   "metadata": {},
   "outputs": [
    {
     "name": "stdout",
     "output_type": "stream",
     "text": [
      "Starting server ...\n",
      "osrm_routing_server_south-america_brazil_norte_foot\n",
      "Server was started succesfully\n"
     ]
    }
   ],
   "source": [
    "up.routing.start_osrm_server(\"norte\", \"south-america_brazil\", PROFILE)"
   ]
  },
  {
   "attachments": {},
   "cell_type": "markdown",
   "metadata": {},
   "source": [
    "Then we can do our distance and duration calculations\n"
   ]
  },
  {
   "cell_type": "code",
   "execution_count": 25,
   "metadata": {},
   "outputs": [
    {
     "name": "stdout",
     "output_type": "stream",
     "text": [
      "\n",
      "OSRM results using profile=foot\n",
      "------------\n",
      "Origin: (-3.0547889500616674, -48.93935966253806),\n",
      "Destination: (-3.051662, -48.937965)\n",
      "Distance (meters): 273.7\n",
      "Duration (seconds): 197.2\n",
      "\n"
     ]
    }
   ],
   "source": [
    "# Running an example route to check if the server is working\n",
    "# This also fixs the Python multiprocessing error in MacOS\n",
    "# (For more info see: https://github.com/nalepae/pandarallel/issues/225)\n",
    "\n",
    "origin = para_hexs.iloc[0]\n",
    "destination = filtered_schools.iloc[para_hexs.iloc[0][\"closest_school_id\"]]\n",
    "\n",
    "# (distance in meters, duration in seconds)\n",
    "distance, duration = up.routing.osrm_route(\n",
    "    origin.geometry.centroid, destination.geometry\n",
    ")\n",
    "\n",
    "print(\n",
    "    f\"\"\"\n",
    "OSRM results using profile={PROFILE}\n",
    "------------\n",
    "Origin: {origin.geometry.centroid.y, origin.geometry.centroid.x},\n",
    "Destination: {destination.geometry.y, destination.geometry.x}\n",
    "Distance (meters): {distance}\n",
    "Duration (seconds): {duration}\n",
    "\"\"\"\n",
    ")"
   ]
  },
  {
   "cell_type": "code",
   "execution_count": 26,
   "metadata": {},
   "outputs": [
    {
     "data": {
      "application/vnd.jupyter.widget-view+json": {
       "model_id": "cc0eb7ad312d464abf589e86a5f16513",
       "version_major": 2,
       "version_minor": 0
      },
      "text/plain": [
       "VBox(children=(HBox(children=(IntProgress(value=0, description='0.00%', max=13237), Label(value='0 / 13237')))…"
      ]
     },
     "metadata": {},
     "output_type": "display_data"
    },
    {
     "name": "stdout",
     "output_type": "stream",
     "text": [
      "Waiting for server to be ready ...Waiting for server to be ready ...\n",
      "\n",
      "Waiting for server to be ready ...\n",
      "Waiting for server to be ready ...Waiting for server to be ready ...\n",
      "\n",
      "Waiting for server to be ready ...Waiting for server to be ready ...\n",
      "\n",
      "Waiting for server to be ready ...\n",
      "Waiting for server to be ready ...Waiting for server to be ready ...\n",
      "\n",
      "Elapsed time (s) 196.57561111450195\n"
     ]
    }
   ],
   "source": [
    "start_time = time.time()\n",
    "distance_duration_para_by_foot = para_hexs.parallel_apply(\n",
    "    lambda row: up.routing.osrm_route(\n",
    "        origin=row.geometry.centroid,\n",
    "        destination=filtered_schools.iloc[row[\"closest_school_id\"]][\"geometry\"],\n",
    "    ),\n",
    "    result_type=\"expand\",\n",
    "    axis=1,\n",
    ")\n",
    "print(\"Elapsed time (s)\", time.time() - start_time)"
   ]
  },
  {
   "attachments": {},
   "cell_type": "markdown",
   "metadata": {},
   "source": [
    "## Inspect results\n"
   ]
  },
  {
   "cell_type": "code",
   "execution_count": 27,
   "metadata": {},
   "outputs": [],
   "source": [
    "para_hexs[\"distance_to_school_km_by_foot\"] = (\n",
    "    distance_duration_para_by_foot[0] / 1000\n",
    ")  # meters to kilometers\n",
    "para_hexs[\"duration_to_school_min_by_foot\"] = (\n",
    "    distance_duration_para_by_foot[1] / 60\n",
    ")  # seconds to minutes"
   ]
  },
  {
   "cell_type": "code",
   "execution_count": 28,
   "metadata": {},
   "outputs": [
    {
     "name": "stdout",
     "output_type": "stream",
     "text": [
      "Server was stoped succesfully\n"
     ]
    }
   ],
   "source": [
    "# Once we have finished with the OSRM server we stop it\n",
    "up.routing.stop_osrm_server(\"norte\", \"south-america_brazil\", PROFILE)"
   ]
  },
  {
   "attachments": {},
   "cell_type": "markdown",
   "metadata": {},
   "source": [
    "## Create map for travel times by foot to nearest schools\n"
   ]
  },
  {
   "cell_type": "code",
   "execution_count": 29,
   "metadata": {},
   "outputs": [
    {
     "data": {
      "text/plain": [
       "count    130363.000000\n",
       "mean        259.309849\n",
       "std         719.200650\n",
       "min           0.000000\n",
       "25%          15.275833\n",
       "50%          67.283333\n",
       "75%         209.785833\n",
       "max       18042.888333\n",
       "Name: duration_to_school_min_by_foot, dtype: float64"
      ]
     },
     "execution_count": 29,
     "metadata": {},
     "output_type": "execute_result"
    }
   ],
   "source": [
    "para_hexs[\"duration_to_school_min_by_foot\"].describe()"
   ]
  },
  {
   "attachments": {},
   "cell_type": "markdown",
   "metadata": {},
   "source": [
    "## Making map with bins of duration\n"
   ]
  },
  {
   "attachments": {},
   "cell_type": "markdown",
   "metadata": {},
   "source": [
    "First get default categories\n"
   ]
  },
  {
   "cell_type": "code",
   "execution_count": 30,
   "metadata": {},
   "outputs": [
    {
     "name": "stdout",
     "output_type": "stream",
     "text": [
      "[0, 15, 30, 45, 60, 90, 120, 18043]\n",
      "['0-15', '15-30', '30-45', '45-60', '60-90', '90-120', '>120']\n"
     ]
    }
   ],
   "source": [
    "custom_bins, custom_labels = up.utils.create_duration_labels(\n",
    "    para_hexs[\"duration_to_school_min_by_foot\"]\n",
    ")\n",
    "print(custom_bins)\n",
    "print(custom_labels)"
   ]
  },
  {
   "attachments": {},
   "cell_type": "markdown",
   "metadata": {},
   "source": [
    "Then convert from numerical to categorical\n"
   ]
  },
  {
   "cell_type": "code",
   "execution_count": 31,
   "metadata": {},
   "outputs": [],
   "source": [
    "para_hexs[\"duration_to_school_min_by_foot_cat\"] = pd.cut(\n",
    "    para_hexs[\"duration_to_school_min_by_foot\"], bins=custom_bins, labels=custom_labels\n",
    ")"
   ]
  },
  {
   "cell_type": "code",
   "execution_count": 32,
   "metadata": {},
   "outputs": [
    {
     "name": "stdout",
     "output_type": "stream",
     "text": [
      "Read micro regions in 0.008533954620361328 seconds\n"
     ]
    }
   ],
   "source": [
    "# Read hexagons and school data with geopandas\n",
    "start_time = time.time()\n",
    "microregions = gpd.read_parquet(\"outputs/para_micro_regions.parquets\")\n",
    "print(f\"Read micro regions in {time.time() - start_time} seconds\")"
   ]
  },
  {
   "cell_type": "code",
   "execution_count": 33,
   "metadata": {},
   "outputs": [],
   "source": [
    "# Import libraries for plotting\n",
    "import plotly.graph_objects as go\n",
    "from plotly.subplots import make_subplots\n",
    "from pydeck.data_utils import compute_view\n",
    "from tqdm import tqdm\n",
    "from unidecode import unidecode"
   ]
  },
  {
   "cell_type": "code",
   "execution_count": 34,
   "metadata": {},
   "outputs": [],
   "source": [
    "# Calculate total number of students in each hexagon\n",
    "para_hexs[\"QT_MAT_TOTAL\"] = para_hexs[\n",
    "    [\n",
    "        \"QT_MAT_BAS\",\n",
    "        \"QT_MAT_INF\",\n",
    "        \"QT_MAT_FUND\",\n",
    "        \"QT_MAT_MED\",\n",
    "        \"QT_MAT_PROF\",\n",
    "        \"QT_MAT_EJA\",\n",
    "        \"QT_MAT_ESP\",\n",
    "    ]\n",
    "].sum(axis=1)\n",
    "\n",
    "# Calculate total number of teachers in each hexagon\n",
    "para_hexs[\"QT_DOC_TOTAL\"] = para_hexs[\n",
    "    [\n",
    "        \"QT_DOC_BAS\",\n",
    "        \"QT_DOC_INF\",\n",
    "        \"QT_DOC_FUND\",\n",
    "        \"QT_DOC_MED\",\n",
    "        \"QT_DOC_PROF\",\n",
    "        \"QT_DOC_EJA\",\n",
    "        \"QT_DOC_ESP\",\n",
    "    ]\n",
    "].sum(axis=1)\n",
    "\n",
    "# Calculate total number of schools in each hexagon\n",
    "para_hexs[\"pob_school_age\"] = para_hexs[\n",
    "    [\n",
    "        \"pop_3_5_years_adj\",\n",
    "        \"pop_6_14_years_adj\",\n",
    "        \"pop_15_17_years_adj\",\n",
    "        \"pop_18_years_adj\",\n",
    "    ]\n",
    "].sum(axis=1)"
   ]
  },
  {
   "cell_type": "code",
   "execution_count": 35,
   "metadata": {},
   "outputs": [],
   "source": [
    "# Calculate total number of students in schools\n",
    "filtered_schools[\"QT_MAT_TOTAL\"] = filtered_schools[\n",
    "    [\n",
    "        \"QT_MAT_BAS\",\n",
    "        \"QT_MAT_INF\",\n",
    "        \"QT_MAT_FUND\",\n",
    "        \"QT_MAT_MED\",\n",
    "        \"QT_MAT_PROF\",\n",
    "        \"QT_MAT_EJA\",\n",
    "        \"QT_MAT_ESP\",\n",
    "    ]\n",
    "].sum(axis=1)\n",
    "\n",
    "# Calculate total number of teachers in schools\n",
    "filtered_schools[\"QT_DOC_TOTAL\"] = filtered_schools[\n",
    "    [\n",
    "        \"QT_DOC_BAS\",\n",
    "        \"QT_DOC_INF\",\n",
    "        \"QT_DOC_FUND\",\n",
    "        \"QT_DOC_MED\",\n",
    "        \"QT_DOC_PROF\",\n",
    "        \"QT_DOC_EJA\",\n",
    "        \"QT_DOC_ESP\",\n",
    "    ]\n",
    "].sum(axis=1)"
   ]
  },
  {
   "cell_type": "code",
   "execution_count": 36,
   "metadata": {},
   "outputs": [],
   "source": [
    "# Use the total number of students to define the size of the map markers\n",
    "SIZE_SCALE = 20\n",
    "SIZE_MIN, SIZE_MAX = 5, 20\n",
    "filtered_schools[\"marker_size\"] = (\n",
    "    filtered_schools[\"QT_MAT_TOTAL\"] / filtered_schools[\"QT_MAT_TOTAL\"].max()\n",
    ") * SIZE_SCALE\n",
    "filtered_schools[\"marker_size\"] = np.clip(\n",
    "    filtered_schools[\"marker_size\"], SIZE_MIN, SIZE_MAX\n",
    ")"
   ]
  },
  {
   "cell_type": "code",
   "execution_count": 37,
   "metadata": {},
   "outputs": [],
   "source": [
    "size_brackets = {\n",
    "    5: \"0-2000\",  # \"0-1865\",\n",
    "    10: \"2001-4000\",  # \"1865-3714\",\n",
    "    15: \"4000-6000\",  # \"3772-5594\",\n",
    "    20: \"6000-7500\",  # \"5873-7462\",\n",
    "}"
   ]
  },
  {
   "cell_type": "code",
   "execution_count": 38,
   "metadata": {},
   "outputs": [
    {
     "name": "stderr",
     "output_type": "stream",
     "text": [
      "  0%|          | 0/22 [00:00<?, ?it/s]"
     ]
    },
    {
     "name": "stderr",
     "output_type": "stream",
     "text": [
      "100%|██████████| 22/22 [01:45<00:00,  4.80s/it]\n"
     ]
    }
   ],
   "source": [
    "output_folder = \"outputs/para_microregions_maps/\"\n",
    "\n",
    "if not os.path.exists(output_folder):\n",
    "    os.makedirs(output_folder, exist_ok=True)\n",
    "\n",
    "# Create a visualization for each microregion\n",
    "for ix, region in tqdm(microregions.iterrows(), total=len(microregions)):\n",
    "    # Select the hexagons and schools that are within the microregion\n",
    "    microregion_hexs = para_hexs[para_hexs.within(region.geometry)]\n",
    "    microregions_schools = filtered_schools[filtered_schools.within(region.geometry)]\n",
    "\n",
    "    # Compute the map center and zoom\n",
    "    viewstate = compute_view(microregions_schools[[\"lon\", \"lat\"]], view_proportion=0.8)\n",
    "\n",
    "    # Calculate the population for each travel time category\n",
    "    pop_by_duration = (\n",
    "        microregion_hexs.groupby(\"duration_to_school_min_by_foot_cat\")[\n",
    "            \"population_2020\"\n",
    "        ]\n",
    "        .sum()\n",
    "        .reset_index()\n",
    "    )\n",
    "    pop_by_duration[\"population_label\"] = \"Population\"\n",
    "\n",
    "    # Calculate the percentage of the total population for each travel time category\n",
    "    pop_by_duration[\"prop_poulation_2020\"] = (\n",
    "        pop_by_duration[\"population_2020\"]\n",
    "        * 100\n",
    "        / microregion_hexs[\"population_2020\"].sum()\n",
    "    ).round(2).astype(str) + \" %\"\n",
    "\n",
    "    # Create a hexagon map colored by travel time to school categories\n",
    "    hexs_fig = px.choropleth_mapbox(\n",
    "        microregion_hexs,\n",
    "        geojson=microregion_hexs.geometry,\n",
    "        locations=microregion_hexs.index,\n",
    "        opacity=0.6,\n",
    "        color=microregion_hexs[\"duration_to_school_min_by_foot_cat\"]\n",
    "        .astype(str)\n",
    "        .replace({\"nan\": np.nan}),\n",
    "        color_discrete_sequence=px.colors.sequential.Viridis_r,\n",
    "        category_orders={\"color\": custom_labels},\n",
    "        hover_data=[\n",
    "            \"distance_to_school_km_by_foot\",\n",
    "            \"duration_to_school_min_by_foot\",\n",
    "        ],\n",
    "    )\n",
    "\n",
    "    # Customize the legend and hover information\n",
    "    hexs_fig.update_traces(\n",
    "        legendgroup=\"Hexagons\",\n",
    "        legendgrouptitle_text=\"Travel Time (minutes)\",\n",
    "        hovertemplate=\"<b>Travel to closest school by foot</b><br>\"\n",
    "        + \"Time: %{customdata[1]:.0f} minutes<br>\"\n",
    "        + \"Distance: %{customdata[0]:.2f} kilometers<br>\",\n",
    "    )\n",
    "    hexs_traces = hexs_fig.data\n",
    "\n",
    "    # Create the schools points to be plotted on the map\n",
    "    schools_trace = go.Scattermapbox(\n",
    "        lat=microregions_schools[\"lat\"],\n",
    "        lon=microregions_schools[\"lon\"],\n",
    "        mode=\"markers\",\n",
    "        marker=dict(\n",
    "            size=microregions_schools[\"marker_size\"],\n",
    "            color=\"green\",\n",
    "            opacity=0.5,\n",
    "        ),\n",
    "        showlegend=False,\n",
    "        customdata=microregions_schools[\n",
    "            [\n",
    "                \"name_school\",\n",
    "                \"education_level\",\n",
    "                \"admin_category\",\n",
    "                \"government_level\",\n",
    "                \"QT_MAT_TOTAL\",\n",
    "            ]\n",
    "        ],\n",
    "        hovertemplate=\"<b>%{customdata[0]}</b><br><br>\"\n",
    "        + \"Education Level: %{customdata[1]}<br>\"\n",
    "        + \"Administrative Category: %{customdata[2]}<br>\"\n",
    "        + \"Government Level: %{customdata[3]}<br>\"\n",
    "        + \"Number of Students: %{customdata[4]}\"\n",
    "        + \"<extra></extra>\",\n",
    "    )\n",
    "\n",
    "    # Create a bar chart with the population by travel time to school\n",
    "    bar_trace = go.Bar(\n",
    "        x=pop_by_duration[\"duration_to_school_min_by_foot_cat\"],\n",
    "        y=pop_by_duration[\"population_2020\"],\n",
    "        marker_color=px.colors.sequential.Viridis_r[: len(pop_by_duration)],\n",
    "        text=pop_by_duration[\"prop_poulation_2020\"],\n",
    "        textposition=\"auto\",\n",
    "        xaxis=\"x2\",\n",
    "        yaxis=\"y2\",\n",
    "        hovertemplate=\"<b>%{y:,.0f} people, %{text}</b> of the total population,<br> have to <b>walk %{x} minutes</b> to reach the nearest school\",\n",
    "    )\n",
    "\n",
    "    # Unify the map and the bar chart in a single figure\n",
    "    fig = make_subplots(\n",
    "        rows=1,\n",
    "        cols=2,\n",
    "        column_widths=[0.3, 0.7],\n",
    "        subplot_titles=[\n",
    "            \"Population by travel time to school\",\n",
    "            \"Travel time to school by foot\",\n",
    "        ],\n",
    "        specs=[[{\"type\": \"bar\"}, {\"type\": \"mapbox\"}]],\n",
    "    )\n",
    "\n",
    "    fig.add_trace(bar_trace, row=1, col=1)\n",
    "    fig.update_traces(showlegend=False, row=1, col=1)\n",
    "\n",
    "    fig.add_traces(hexs_traces, rows=1, cols=2)\n",
    "    fig.update_traces(marker_line_width=0.0, row=1, col=2)\n",
    "    fig.add_trace(schools_trace, row=1, col=2)\n",
    "    # Create the legend with invisible traces\n",
    "    fig.add_traces(\n",
    "        [\n",
    "            go.Scattermapbox(\n",
    "                # Set a random point\n",
    "                lat=[11.5],\n",
    "                lon=[-77.5],\n",
    "                mode=\"markers\",\n",
    "                marker=dict(\n",
    "                    size=marker_size,\n",
    "                    color=\"green\",\n",
    "                    opacity=1,\n",
    "                ),\n",
    "                legendgroup=\"Schools\",\n",
    "                legendgrouptitle_text=\"Schools (# students)\",\n",
    "                name=size_brackets[marker_size],\n",
    "                showlegend=True,\n",
    "            )\n",
    "            for marker_size in range(5, 21, 5)\n",
    "        ],\n",
    "        rows=1,\n",
    "        cols=2,\n",
    "    )\n",
    "\n",
    "    # Final customization of the figure\n",
    "    fig.update_layout(\n",
    "        margin=dict(l=20, r=20, t=30, b=20),\n",
    "        mapbox=dict(\n",
    "            style=\"open-street-map\",\n",
    "            zoom=viewstate.zoom,\n",
    "            center=dict(lat=viewstate.latitude, lon=viewstate.longitude),\n",
    "        ),\n",
    "    )\n",
    "\n",
    "    # Save the figure as an HTML file\n",
    "    fig.write_html(output_folder + f\"{unidecode(region['name_micro'].lower())}.html\")"
   ]
  },
  {
   "attachments": {},
   "cell_type": "markdown",
   "metadata": {},
   "source": [
    "Then plot\n"
   ]
  },
  {
   "cell_type": "code",
   "execution_count": null,
   "metadata": {},
   "outputs": [],
   "source": [
    "if False:\n",
    "    map_figure = up.plotting.choropleth_map(\n",
    "        para_hexs.reset_index(drop=True),\n",
    "        \"duration_to_school_min_by_foot_cat\",\n",
    "        zoom=8,\n",
    "        opacity=0.6,\n",
    "        title=\"Pará - Estimated travel times to school by foot\",\n",
    "        color_discrete_sequence=px.colors.sequential.Plasma_r,\n",
    "        category_orders={\"duration_to_school_min_by_foot_cat\": custom_labels},\n",
    "        labels={\"duration_to_school_min_by_foot_cat\": \"Duration (minutes)\"},\n",
    "    )\n",
    "\n",
    "    map_figure.update_layout(\n",
    "        margin=dict(l=0, r=0, t=50, b=0),\n",
    "    )\n",
    "    map_figure.update_traces(marker_line_width=0)\n",
    "    map_figure.show()"
   ]
  },
  {
   "cell_type": "markdown",
   "metadata": {},
   "source": [
    "## Create map for travel times by car to nearest schools\n"
   ]
  },
  {
   "cell_type": "code",
   "execution_count": null,
   "metadata": {},
   "outputs": [],
   "source": [
    "up.routing.start_osrm_server(\"norte\", \"south-america_brazil\", \"car\")"
   ]
  },
  {
   "cell_type": "code",
   "execution_count": null,
   "metadata": {},
   "outputs": [],
   "source": [
    "# # Stop all multiprocess child processes\n",
    "# import multiprocessing\n",
    "# active = multiprocessing.active_children()\n",
    "# for child in active:\n",
    "#     child.terminate()"
   ]
  },
  {
   "cell_type": "code",
   "execution_count": null,
   "metadata": {},
   "outputs": [],
   "source": [
    "distance_duration_para_by_car = para_hexs.progress_apply(\n",
    "    lambda row: up.routing.osrm_route(\n",
    "        origin=row.geometry.centroid,\n",
    "        destination=filtered_schools.iloc[row[\"closest_school_id\"]][\"geometry\"],\n",
    "    ),\n",
    "    result_type=\"expand\",\n",
    "    axis=1,\n",
    ")"
   ]
  },
  {
   "cell_type": "code",
   "execution_count": null,
   "metadata": {},
   "outputs": [],
   "source": [
    "para_hexs[\"distance_to_school_km_by_car\"] = (\n",
    "    distance_duration_para_by_car[0] / 1000\n",
    ")  # meters to kilometers\n",
    "para_hexs[\"duration_to_school_min_by_car\"] = (\n",
    "    distance_duration_para_by_car[1] / 60\n",
    ")  # seconds to minutes"
   ]
  },
  {
   "cell_type": "code",
   "execution_count": null,
   "metadata": {},
   "outputs": [],
   "source": [
    "# Once we have finished with the OSRM server we stop it\n",
    "up.routing.stop_osrm_server(\"norte\", \"south-america_brazil\", \"car\")"
   ]
  },
  {
   "cell_type": "markdown",
   "metadata": {},
   "source": [
    "## Create map for travel times by car to nearest schools\n"
   ]
  },
  {
   "cell_type": "code",
   "execution_count": null,
   "metadata": {},
   "outputs": [],
   "source": [
    "para_hexs[\n",
    "    [\n",
    "        \"distance_to_school_km_by_foot\",\n",
    "        \"distance_to_school_km_by_car\",\n",
    "        \"duration_to_school_min_by_foot\",\n",
    "        \"duration_to_school_min_by_car\",\n",
    "    ]\n",
    "].describe()"
   ]
  },
  {
   "cell_type": "code",
   "execution_count": null,
   "metadata": {},
   "outputs": [],
   "source": [
    "if False:\n",
    "    # Reset index is needed to avoid an error with plotly choropleth_map\n",
    "    fig = up.plotting.choropleth_map(\n",
    "        para_hexs.reset_index(drop=True),\n",
    "        \"duration_to_school_min_by_car\",\n",
    "        title=\"Para Estimated travel times to school by car\",\n",
    "        zoom=8,\n",
    "        color_continuous_scale=\"Plasma_r\",\n",
    "        opacity=0.6,\n",
    "        labels={\"duration_to_school_min_by_car\": \"Duration (min)\"},\n",
    "    )\n",
    "\n",
    "    fig.update_layout(\n",
    "        margin=dict(l=0, r=0, t=50, b=0),\n",
    "    )\n",
    "    fig.update_traces(marker_line_width=0.0)\n",
    "    fig.show()"
   ]
  },
  {
   "cell_type": "markdown",
   "metadata": {},
   "source": [
    "## Making map with bins of duration\n"
   ]
  },
  {
   "cell_type": "markdown",
   "metadata": {},
   "source": [
    "First get default categories\n"
   ]
  },
  {
   "cell_type": "code",
   "execution_count": null,
   "metadata": {},
   "outputs": [],
   "source": [
    "custom_bins, custom_labels = up.utils.create_duration_labels(\n",
    "    para_hexs[\"duration_to_school_min_by_car\"]\n",
    ")\n",
    "print(custom_bins)\n",
    "print(custom_labels)"
   ]
  },
  {
   "cell_type": "markdown",
   "metadata": {},
   "source": [
    "Then convert from numerical to categorical\n"
   ]
  },
  {
   "cell_type": "code",
   "execution_count": null,
   "metadata": {},
   "outputs": [],
   "source": [
    "para_hexs[\"duration_to_school_min_by_car_cat\"] = pd.cut(\n",
    "    para_hexs[\"duration_to_school_min_by_car\"], bins=custom_bins, labels=custom_labels\n",
    ")"
   ]
  },
  {
   "cell_type": "code",
   "execution_count": null,
   "metadata": {},
   "outputs": [],
   "source": [
    "para_hexs[\"duration_to_school_min_by_foot_cat\"].value_counts(normalize=True).round(\n",
    "    4\n",
    ") * 100"
   ]
  },
  {
   "cell_type": "code",
   "execution_count": null,
   "metadata": {},
   "outputs": [],
   "source": [
    "para_hexs[\"duration_to_school_min_by_car_cat\"].value_counts(normalize=True).round(\n",
    "    4\n",
    ") * 100"
   ]
  },
  {
   "cell_type": "markdown",
   "metadata": {},
   "source": [
    "Then plot\n"
   ]
  },
  {
   "cell_type": "code",
   "execution_count": null,
   "metadata": {},
   "outputs": [],
   "source": [
    "if False:\n",
    "    map_figure = up.plotting.choropleth_map(\n",
    "        para_hexs.reset_index(drop=True),\n",
    "        \"duration_to_school_min_by_car_cat\",\n",
    "        zoom=5,\n",
    "        opacity=0.6,\n",
    "        title=\"Pará - Estimated travel times to school by car\",\n",
    "        color_discrete_sequence=px.colors.sequential.Plasma_r,\n",
    "        category_orders={\"duration_to_school_min_by_car_cat\": custom_labels},\n",
    "        labels={\"duration_to_school_min_by_car_cat\": \"Duration (minutes)\"},\n",
    "    )\n",
    "\n",
    "    map_figure.update_layout(\n",
    "        margin=dict(l=0, r=0, t=50, b=0),\n",
    "    )\n",
    "    map_figure.update_traces(marker_line_width=0.0)\n",
    "    map_figure.show()"
   ]
  },
  {
   "cell_type": "code",
   "execution_count": null,
   "metadata": {},
   "outputs": [],
   "source": [
    "para_hexs.to_csv(\"outputs/20240116_para_hexs_fund_public_travel_times.csv\")\n",
    "para_hexs.to_parquet(\"outputs/20240116_para_hexs_fund_public_travel_times.parquet\")"
   ]
  },
  {
   "cell_type": "markdown",
   "metadata": {},
   "source": [
    "## Calculate schools given a travel time/radius\n"
   ]
  },
  {
   "cell_type": "code",
   "execution_count": null,
   "metadata": {},
   "outputs": [],
   "source": [
    "para_hexs = gpd.read_parquet(\n",
    "    \"outputs/20240116_para_hexs_fund_public_travel_times.parquet\"\n",
    ")"
   ]
  },
  {
   "cell_type": "code",
   "execution_count": null,
   "metadata": {},
   "outputs": [],
   "source": [
    "para_hexs.head()"
   ]
  },
  {
   "cell_type": "code",
   "execution_count": null,
   "metadata": {},
   "outputs": [],
   "source": [
    "profile = \"car\"\n",
    "# Travel time speeds\n",
    "speeds = {\"foot\": 5, \"bike\": 10, \"car\": 20}\n",
    "speed = speeds[profile] * 1000 / 60  # km/h to m/min\n",
    "\n",
    "travel_time_bins = [15, 30]  # in minutes\n",
    "\n",
    "for bins in travel_time_bins:\n",
    "    # Calculate the maximum distance\n",
    "    max_distance = bins * speed  # in meters\n",
    "    max_distance_degrees = max_distance / 111320  # 1 degree is ~111.32 km\n",
    "    buffer_radius = max_distance_degrees / 2\n",
    "\n",
    "    filtered_schools_subset_buffer = filtered_schools.buffer(buffer_radius)\n",
    "\n",
    "    # Intersect buffers with hexagons to get the number of buffers per hexagon\n",
    "    para_hexs[f\"schools_within_{bins}min_travel_time_{profile}\"] = (\n",
    "        para_hexs.parallel_apply(\n",
    "            lambda row: filtered_schools_subset_buffer.intersects(row.geometry).sum(),\n",
    "            axis=1,\n",
    "        )\n",
    "    )"
   ]
  },
  {
   "cell_type": "code",
   "execution_count": null,
   "metadata": {},
   "outputs": [],
   "source": [
    "para_hexs.head()"
   ]
  },
  {
   "cell_type": "code",
   "execution_count": null,
   "metadata": {},
   "outputs": [],
   "source": [
    "para_hexs[\n",
    "    [\"schools_within_15min_travel_time_foot\", \"schools_within_30min_travel_time_foot\"]\n",
    "].describe()"
   ]
  },
  {
   "cell_type": "code",
   "execution_count": null,
   "metadata": {},
   "outputs": [],
   "source": [
    "para_hexs.to_parquet(\n",
    "    \"outputs/20240116_para_hexs_fund_public_travel_times_counts.parquet\"\n",
    ")"
   ]
  },
  {
   "cell_type": "code",
   "execution_count": null,
   "metadata": {},
   "outputs": [],
   "source": [
    "## Create school indicator aggregates for each hexagon\n",
    "\n",
    "# Create the filters\n",
    "# service_filter = (\n",
    "#     br_schools[\"service_restriction\"]\n",
    "#     == \"ESCOLA EM FUNCIONAMENTO E SEM RESTRIÇÃO DE ATENDIMENTO\"\n",
    "# )\n",
    "# level_filter = br_schools[\"education_level\"].str.contains(\"Ensino Fundamental\")\n",
    "# admin_filter = br_schools[\"admin_category\"] == \"Pública\""
   ]
  },
  {
   "cell_type": "code",
   "execution_count": null,
   "metadata": {},
   "outputs": [],
   "source": [
    "filtered_schools.head()"
   ]
  },
  {
   "cell_type": "code",
   "execution_count": null,
   "metadata": {},
   "outputs": [],
   "source": [
    "# Variables representing the number of students (for Fundamental level)\n",
    "qt_students_fund = [\"QT_MAT_FUND\", \"QT_MAT_FUND_AI\", \"QT_MAT_FUND_AF\"]\n",
    "\n",
    "# Variables representing the number of teachers (for Fundamental level)\n",
    "qt_teachers_fund = [\"QT_DOC_FUND\", \"QT_DOC_FUND_AI\", \"QT_DOC_FUND_AF\"]\n",
    "\n",
    "# Variables representing the number of classes (for Fundamental level)\n",
    "qt_classes_fun = [\"QT_TUR_FUND\", \"QT_TUR_FUND_AI\", \"QT_TUR_FUND_AF\"]\n",
    "\n",
    "# Variables representing the 'Indicador de esforço docente' (for Fundamental level)\n",
    "ied_fun = [\"FUN_CAT_1\", \"FUN_CAT_2\", \"FUN_CAT_3\", \"FUN_CAT_4\", \"FUN_CAT_5\", \"FUN_CAT_6\"]\n",
    "# FUN_AI_CAT_1 FUN_AI_CAT_2 FUN_AI_CAT_3 FUN_AI_CAT_4 FUN_AI_CAT_5 FUN_AI_CAT_6\n",
    "# FUN_AF_CAT_1 FUN_AF_CAT_2 FUN_AF_CAT_3 FUN_AF_CAT_4 FUN_AF_CAT_5 FUN_AF_CAT_6\n",
    "\n",
    "# Variables representing the 'Média de Alunos por Turma' (for Fundamental level)\n",
    "mat_fun = \"FUN_CAT_0\"\n",
    "# 'FUN_AI_CAT_0', 'FUN_AF_CAT_0', 'MULT_ETA_CAT_0'\n",
    "# FUN_01_CAT_0 FUN_02_CAT_0 FUN_03_CAT_0 FUN_04_CAT_0 FUN_05_CAT_0 FUN_06_CAT_0 FUN_07_CAT_0 FUN_08_CAT_0 FUN_09_CAT_0"
   ]
  },
  {
   "cell_type": "code",
   "execution_count": null,
   "metadata": {},
   "outputs": [],
   "source": [
    "filtered_schools[\n",
    "    [\"QT_MAT_FUND\", \"QT_MAT_FUND_AI\", \"QT_MAT_FUND_AF\"]\n",
    "].isna().sum() / len(filtered_schools) * 100"
   ]
  },
  {
   "cell_type": "code",
   "execution_count": null,
   "metadata": {},
   "outputs": [],
   "source": [
    "filtered_schools[\n",
    "    [\"QT_DOC_FUND\", \"QT_DOC_FUND_AI\", \"QT_DOC_FUND_AF\"]\n",
    "].isna().sum() / len(filtered_schools) * 100"
   ]
  },
  {
   "cell_type": "code",
   "execution_count": null,
   "metadata": {},
   "outputs": [],
   "source": [
    "filtered_schools[\n",
    "    [\"QT_TUR_FUND\", \"QT_TUR_FUND_AI\", \"QT_TUR_FUND_AF\"]\n",
    "].isna().sum() / len(filtered_schools) * 100"
   ]
  },
  {
   "cell_type": "code",
   "execution_count": null,
   "metadata": {},
   "outputs": [],
   "source": [
    "filtered_schools[\n",
    "    [\"FUN_CAT_1\", \"FUN_CAT_2\", \"FUN_CAT_3\", \"FUN_CAT_4\", \"FUN_CAT_5\", \"FUN_CAT_6\"]\n",
    "].isna().sum() / len(filtered_schools) * 100"
   ]
  },
  {
   "cell_type": "code",
   "execution_count": null,
   "metadata": {},
   "outputs": [],
   "source": [
    "filtered_schools[\n",
    "    [\"FUN_CAT_0\", \"FUN_AI_CAT_0\", \"FUN_AF_CAT_0\", \"MULT_ETA_CAT_0\"]\n",
    "].isna().sum() / len(filtered_schools) * 100"
   ]
  },
  {
   "cell_type": "code",
   "execution_count": null,
   "metadata": {},
   "outputs": [],
   "source": [
    "qt_students_fund\n",
    "qt_teachers_fund\n",
    "qt_classes_fun\n",
    "postfix = [\"_FUND\", \"_FUND_AI\", \"_FUND_AF\"]\n",
    "\n",
    "for i in range(len(qt_students_fund)):\n",
    "    filtered_schools[f\"students_per_professor{postfix[i]}\"] = (\n",
    "        filtered_schools[qt_students_fund[i]] / filtered_schools[qt_teachers_fund[i]]\n",
    "    )\n",
    "    filtered_schools[f\"students_per_class{postfix[i]}\"] = (\n",
    "        filtered_schools[qt_students_fund[i]] / filtered_schools[qt_classes_fun[i]]\n",
    "    )"
   ]
  },
  {
   "cell_type": "code",
   "execution_count": null,
   "metadata": {},
   "outputs": [],
   "source": [
    "rename_indicators = {col: f\"IED_NIV_{col.split('_')[-1]}_FUND\" for col in ied_fun}\n",
    "rename_indicators[mat_fun] = \"MAT_FUND\""
   ]
  },
  {
   "cell_type": "code",
   "execution_count": null,
   "metadata": {},
   "outputs": [],
   "source": [
    "# Rename columns\n",
    "filtered_schools = filtered_schools.rename(columns=rename_indicators)"
   ]
  },
  {
   "cell_type": "code",
   "execution_count": null,
   "metadata": {},
   "outputs": [],
   "source": [
    "# Get relevant columns\n",
    "filtered_schools[\n",
    "    [\n",
    "        \"students_per_professor_FUND\",\n",
    "        \"students_per_class_FUND\",\n",
    "        \"IED_NIV_1_FUND\",\n",
    "        \"IED_NIV_2_FUND\",\n",
    "        \"IED_NIV_3_FUND\",\n",
    "        \"IED_NIV_4_FUND\",\n",
    "        \"IED_NIV_5_FUND\",\n",
    "        \"IED_NIV_6_FUND\",\n",
    "        \"MAT_FUND\",\n",
    "    ]\n",
    "].head()"
   ]
  },
  {
   "cell_type": "code",
   "execution_count": null,
   "metadata": {},
   "outputs": [],
   "source": [
    "# Get relevant columns\n",
    "filtered_schools[\n",
    "    [\n",
    "        \"students_per_professor_FUND\",\n",
    "        \"students_per_class_FUND\",\n",
    "        \"IED_NIV_1_FUND\",\n",
    "        \"IED_NIV_2_FUND\",\n",
    "        \"IED_NIV_3_FUND\",\n",
    "        \"IED_NIV_4_FUND\",\n",
    "        \"IED_NIV_5_FUND\",\n",
    "        \"IED_NIV_6_FUND\",\n",
    "        \"MAT_FUND\",\n",
    "    ]\n",
    "].describe()"
   ]
  },
  {
   "cell_type": "code",
   "execution_count": null,
   "metadata": {},
   "outputs": [],
   "source": [
    "# import ax divider\n",
    "from mpl_toolkits.axes_grid1 import make_axes_locatable\n",
    "import contextily as ctx"
   ]
  },
  {
   "cell_type": "markdown",
   "metadata": {},
   "source": [
    "Description of teacher effort levels\n",
    "\n",
    "| Level | Students | Shifts | Schools | Stages |\n",
    "| ----- | -------- | ------ | ------- | ------ |\n",
    "| **1** | <25      | 1      | 1       | 1      |\n",
    "| **2** | 25-150   | 1      | 1       | 1      |\n",
    "| **3** | 25-300   | 1-2    | 1       | 1      |\n",
    "| **4** | 50-400   | 2      | 1-2     | 2      |\n",
    "| **5** | >300     | 3      | 2-3     | 2-3    |\n",
    "| **6** | >400     | 3      | 2-3     | 2-3    |\n"
   ]
  },
  {
   "cell_type": "code",
   "execution_count": null,
   "metadata": {},
   "outputs": [],
   "source": [
    "fig, axes = plt.subplots(2, 3, figsize=(15, 10), sharex=True, sharey=True)\n",
    "fig.suptitle(\n",
    "    \"Percentage of teachers by levels of the teacher effort indicator - Educação Fundamental (Pública)\"\n",
    ")\n",
    "\n",
    "# Create a single axes for the colorscale\n",
    "cax = fig.add_axes([1, 0.1, 0.02, 0.8])\n",
    "\n",
    "for i in range(6):\n",
    "    ax = axes[i // 3, i % 3]\n",
    "    filtered_schools.sort_values(f\"IED_NIV_{i+1}_FUND\").plot(\n",
    "        f\"IED_NIV_{i+1}_FUND\", legend=True, ax=ax, cax=cax, markersize=1, cmap=\"magma\"\n",
    "    )\n",
    "    ax.set_title(f\"Nivel {i+1}\")\n",
    "    ax.set_axis_off()\n",
    "    ctx.add_basemap(\n",
    "        ax,\n",
    "        crs=filtered_schools.crs.to_string(),\n",
    "        source=ctx.providers.CartoDB.Positron,\n",
    "        attribution=False,\n",
    "    )\n",
    "\n",
    "plt.tight_layout()"
   ]
  },
  {
   "cell_type": "code",
   "execution_count": null,
   "metadata": {},
   "outputs": [],
   "source": [
    "cols = [\"MAT_FUND\", \"students_per_class_FUND\"]\n",
    "label = [\n",
    "    \"Média de Alunos por Turma (given)\",\n",
    "    \"Number of students per class (calculated)\",\n",
    "]\n",
    "fig, axes = plt.subplots(1, 2, figsize=(15, 7.5), sharex=True, sharey=True)\n",
    "fig.suptitle(\"Number of Students per Class - Educação Fundamental (Pública)\")\n",
    "\n",
    "\n",
    "# Create a single axes for the colorscale\n",
    "cax = fig.add_axes([1, 0.1, 0.02, 0.75])\n",
    "\n",
    "for col, ax in zip(cols, axes):\n",
    "    filtered_schools.sort_values(col).plot(\n",
    "        col,\n",
    "        legend=True,\n",
    "        ax=ax,\n",
    "        cax=cax,\n",
    "        markersize=1,\n",
    "        cmap=\"Reds\",\n",
    "        vmin=0,\n",
    "        vmax=filtered_schools[col].max(),\n",
    "    )\n",
    "    cax_ticks = np.linspace(0, filtered_schools[col].max(), 5)\n",
    "    cax.set_yticks(cax_ticks)\n",
    "    cax.set_yticklabels([f\"{int(tick):,}\" for tick in cax_ticks])\n",
    "\n",
    "    ax.set_title(label[cols.index(col)])\n",
    "    ax.set_axis_off()\n",
    "    ctx.add_basemap(\n",
    "        ax,\n",
    "        crs=filtered_schools.crs.to_string(),\n",
    "        source=ctx.providers.CartoDB.Positron,\n",
    "        attribution=False,\n",
    "    )\n",
    "\n",
    "plt.tight_layout()"
   ]
  },
  {
   "cell_type": "code",
   "execution_count": null,
   "metadata": {},
   "outputs": [],
   "source": [
    "import matplotlib.pyplot as plt\n",
    "\n",
    "# Create a figure with two subplots\n",
    "fig, ax = plt.subplots(figsize=(10, 5))\n",
    "\n",
    "# Plot the histogram of the first variable\n",
    "ax.hist(\n",
    "    filtered_schools[\"MAT_FUND\"],\n",
    "    bins=30,\n",
    "    color=\"blue\",\n",
    "    alpha=0.5,\n",
    "    label=\"Média de Alunos por Turma (given)\",\n",
    ")\n",
    "ax.set_ylabel(\"Frequency\")\n",
    "\n",
    "# Plot the histogram of the second variable\n",
    "ax.hist(\n",
    "    filtered_schools[\"students_per_class_FUND\"],\n",
    "    bins=30,\n",
    "    color=\"red\",\n",
    "    alpha=0.5,\n",
    "    label=\"Number of students per class (calculated)\",\n",
    ")\n",
    "\n",
    "# Add a title to the figure\n",
    "fig.suptitle(\"Histogram Comparison\")\n",
    "\n",
    "# Add legend to the figure\n",
    "ax.legend()\n",
    "\n",
    "# Adjust the spacing between subplots\n",
    "plt.tight_layout()\n",
    "\n",
    "# Show the figure\n",
    "plt.show()"
   ]
  },
  {
   "cell_type": "code",
   "execution_count": null,
   "metadata": {},
   "outputs": [],
   "source": [
    "col = \"students_per_professor_FUND\"\n",
    "fig, ax = plt.subplots(figsize=(7.5, 7.5))\n",
    "\n",
    "# Create a single axes for the colorscale\n",
    "divider = make_axes_locatable(ax)\n",
    "cax = divider.append_axes(\"right\", size=\"5%\", pad=0.1)\n",
    "\n",
    "\n",
    "ax = filtered_schools.sort_values(col).plot(\n",
    "    col,\n",
    "    legend=True,\n",
    "    ax=ax,\n",
    "    cax=cax,\n",
    "    markersize=1,\n",
    "    cmap=\"RdYlGn_r\",\n",
    "    norm=norm,\n",
    ")\n",
    "\n",
    "cax_ticks = np.concatenate(\n",
    "    (np.linspace(0, 14, 4), np.linspace(14, filtered_schools[col].max(), 4))\n",
    ")\n",
    "cax.set_yticks(cax_ticks)\n",
    "cax.set_yticklabels([f\"{int(tick):,}\" for tick in cax_ticks])\n",
    "\n",
    "# Add a blue market for the mean value in the colorbar\n",
    "mean_value = filtered_schools[col].mean()\n",
    "cax.axhline(mean_value, color=\"blue\", linestyle=\"--\")\n",
    "cax.text(\n",
    "    1.2,\n",
    "    mean_value + 1.5,\n",
    "    f\"{mean_value:.2f}\",\n",
    "    va=\"center\",\n",
    "    ha=\"left\",\n",
    "    color=\"blue\",\n",
    "    bbox=dict(facecolor=\"none\", alpha=0),\n",
    ")\n",
    "\n",
    "ax.set_title(\"Number of Students per Teacher - Educação Fundamental (Pública)\")\n",
    "ax.set_axis_off()\n",
    "ctx.add_basemap(\n",
    "    ax,\n",
    "    crs=filtered_schools.crs.to_string(),\n",
    "    source=ctx.providers.CartoDB.Positron,\n",
    "    attribution=False,\n",
    ")\n",
    "\n",
    "plt.tight_layout()"
   ]
  },
  {
   "cell_type": "code",
   "execution_count": null,
   "metadata": {},
   "outputs": [],
   "source": [
    "# Save the clean filtered schools to a parquet file\n",
    "final_selected_columns = [\n",
    "    \"code_school\",\n",
    "    \"name_school\",\n",
    "    \"education_level\",\n",
    "    \"address\",\n",
    "    \"government_level\",\n",
    "    \"date_update\",\n",
    "    \"students_per_professor_FUND\",\n",
    "    \"students_per_class_FUND\",\n",
    "    \"MAT_FUND\",\n",
    "    \"IED_NIV_1_FUND\",\n",
    "    \"IED_NIV_2_FUND\",\n",
    "    \"IED_NIV_3_FUND\",\n",
    "    \"IED_NIV_4_FUND\",\n",
    "    \"IED_NIV_5_FUND\",\n",
    "    \"IED_NIV_6_FUND\",\n",
    "    \"QT_MAT_FUND\",\n",
    "    \"QT_MAT_FUND_AI\",\n",
    "    \"QT_MAT_FUND_AF\",\n",
    "    \"QT_DOC_FUND\",\n",
    "    \"QT_DOC_FUND_AI\",\n",
    "    \"QT_DOC_FUND_AF\",\n",
    "    \"QT_TUR_FUND\",\n",
    "    \"QT_TUR_FUND_AI\",\n",
    "    \"QT_TUR_FUND_AF\",\n",
    "    \"geometry\",\n",
    "]\n",
    "filtered_schools[final_selected_columns].to_parquet(\n",
    "    \"outputs/20240129_para_schools_final.parquet\"\n",
    ")"
   ]
  },
  {
   "cell_type": "code",
   "execution_count": null,
   "metadata": {},
   "outputs": [],
   "source": [
    "para_hexs[\"territory_type\"] = para_hexs[\"territory type\"]\n",
    "para_hexs[\"territory_type\"].replace(\n",
    "    {\n",
    "        0: \"Rural\",\n",
    "        1: \"Urban\",\n",
    "    },\n",
    "    inplace=True,\n",
    ")"
   ]
  },
  {
   "cell_type": "code",
   "execution_count": null,
   "metadata": {},
   "outputs": [],
   "source": [
    "access_var_labels = {\n",
    "    \"hex\": \"H3 Hexagon Index\",\n",
    "    \"territory type\": \"Territory Type\",\n",
    "    \"population_2020\": \"Population All Ages\",\n",
    "    \"pop_6_14_years_adj\": \"Population Ages 6-14\",\n",
    "    \"income_pc\": \"Avg Income Per Cápita (R$)\",\n",
    "    \"ensino_fundamental\": \"# of schools - Ensino Fundamental\",\n",
    "    \"duration_to_school_min_by_foot\": \"Travel time to the nearest school by foot\",\n",
    "    \"duration_to_school_min_by_foot_cat\": \"Travel time to the nearest school by foot categories\",\n",
    "    \"duration_to_school_min_by_car\": \"Travel time to the nearest school by car\",\n",
    "    \"duration_to_school_min_by_car_cat\": \"Travel time to the nearest school by car categories\",\n",
    "    \"schools_within_15min_travel_time_foot\": \"# of schools at <15 minutes by foot\",\n",
    "    \"schools_within_30min_travel_time_foot\": \"# of schools at <30 minutes by foot\",\n",
    "    \"schools_within_15min_travel_time_car\": \"# of schools at <15 minutes by car\",\n",
    "    \"schools_within_30min_travel_time_car\": \"# of schools at <30 minutes by car\",\n",
    "}"
   ]
  },
  {
   "cell_type": "code",
   "execution_count": null,
   "metadata": {},
   "outputs": [],
   "source": [
    "para_hexs_selected_cols = para_hexs[[*access_var_labels.keys(), \"geometry\"]]"
   ]
  },
  {
   "cell_type": "code",
   "execution_count": null,
   "metadata": {},
   "outputs": [],
   "source": [
    "len(para_hexs_selected_cols.columns)"
   ]
  },
  {
   "cell_type": "code",
   "execution_count": null,
   "metadata": {},
   "outputs": [],
   "source": [
    "para_hexs_selected_cols.select_dtypes(include=\"object\").columns"
   ]
  },
  {
   "cell_type": "code",
   "execution_count": null,
   "metadata": {},
   "outputs": [],
   "source": [
    "agg = {\n",
    "    col: \"sum\"\n",
    "    for col in para_hexs_selected_cols.select_dtypes(include=\"number\").columns\n",
    "}\n",
    "agg[\"income_pc\"] = \"mean\"\n",
    "agg[\"duration_to_school_min_by_foot\"] = \"mean\"\n",
    "agg[\"duration_to_school_min_by_car\"] = \"mean\""
   ]
  },
  {
   "cell_type": "code",
   "execution_count": null,
   "metadata": {},
   "outputs": [],
   "source": [
    "para_hexs_selected_cols_res7 = up.geom.resolution_downsampling(\n",
    "    para_hexs_selected_cols, \"hex\", 4, agg=agg\n",
    ")"
   ]
  },
  {
   "cell_type": "code",
   "execution_count": null,
   "metadata": {},
   "outputs": [],
   "source": [
    "para_hexs_selected_cols_res7.head()"
   ]
  },
  {
   "cell_type": "code",
   "execution_count": null,
   "metadata": {},
   "outputs": [],
   "source": [
    "# Create a plot for each variable\n",
    "fig, axes = plt.subplots(\n",
    "    nrows=agg.keys().__len__() // 3, ncols=3, figsize=(15, 15), sharex=True, sharey=True\n",
    ")\n",
    "\n",
    "for i, col in enumerate([*agg.keys()][2:]):\n",
    "    ax = axes[i // 3, i % 3]\n",
    "    if i % 2 == 0:\n",
    "        para_hexs_selected_cols_res7.plot(\n",
    "            col, legend=True, ax=ax, cmap=\"magma\", edgecolor=\"none\", linewidth=0.0\n",
    "        )\n",
    "    else:\n",
    "        para_hexs_selected_cols_res7.plot(\n",
    "            col,\n",
    "            legend=True,\n",
    "            ax=ax,\n",
    "            cmap=\"magma\",\n",
    "        )\n",
    "    ax.set_title(access_var_labels[col])\n",
    "    ax.set_axis_off()\n",
    "    ctx.add_basemap(\n",
    "        ax,\n",
    "        crs=para_hexs_selected_cols.crs.to_string(),\n",
    "        source=ctx.providers.CartoDB.Positron,\n",
    "        attribution=False,\n",
    "    )"
   ]
  },
  {
   "cell_type": "code",
   "execution_count": null,
   "metadata": {},
   "outputs": [],
   "source": [
    "access_var_labels = {\n",
    "    \"hex\": \"H3 Hexagon Index\",\n",
    "    \"territory type\": \"Territory Type\",\n",
    "    \"population_2020\": \"Population All Ages\",\n",
    "    \"pop_6_14_years_adj\": \"Population Ages 6-14\",\n",
    "    \"income_pc\": \"Avg Income Per Cápita (R$)\",\n",
    "    \"ensino_fundamental\": \"# of schools - Ensino Fundamental\",\n",
    "    \"duration_to_school_min_by_foot\": \"Travel time to the nearest school by foot\",\n",
    "    \"duration_to_school_min_by_foot_cat\": \"Travel time to the nearest school by foot categories\",\n",
    "    \"duration_to_school_min_by_car\": \"Travel time to the nearest school by car\",\n",
    "    \"duration_to_school_min_by_car_cat\": \"Travel time to the nearest school by car categories\",\n",
    "    \"schools_within_15min_travel_time_foot\": \"# of schools at <15 minutes by foot\",\n",
    "    \"schools_within_30min_travel_time_foot\": \"# of schools at <30 minutes by foot\",\n",
    "    \"schools_within_15min_travel_time_car\": \"# of schools at <15 minutes by car\",\n",
    "    \"schools_within_30min_travel_time_car\": \"# of schools at <30 minutes by car\",\n",
    "}"
   ]
  },
  {
   "cell_type": "code",
   "execution_count": null,
   "metadata": {},
   "outputs": [],
   "source": [
    "# Aggregate school indicators by hexagon\n",
    "schools_col = [\n",
    "    \"students_per_professor_FUND\",\n",
    "    \"students_per_class_FUND\",\n",
    "    \"MAT_FUND\",\n",
    "    \"IED_NIV_1_FUND\",\n",
    "    \"IED_NIV_2_FUND\",\n",
    "    \"IED_NIV_3_FUND\",\n",
    "    \"IED_NIV_4_FUND\",\n",
    "    \"IED_NIV_5_FUND\",\n",
    "    \"IED_NIV_6_FUND\",\n",
    "]\n",
    "para_hexs_schools_cols = up.geom.merge_shape_hex(\n",
    "    hexs=para_hexs_selected_cols,\n",
    "    shape=filtered_schools,\n",
    "    agg={col: \"mean\" for col in schools_col},\n",
    ")"
   ]
  },
  {
   "cell_type": "code",
   "execution_count": null,
   "metadata": {},
   "outputs": [],
   "source": [
    "para_hexs_schools_cols.geometry"
   ]
  },
  {
   "cell_type": "code",
   "execution_count": null,
   "metadata": {},
   "outputs": [],
   "source": [
    "para_hexs_schools_cols_res4 = up.geom.resolution_downsampling(\n",
    "    para_hexs_schools_cols, \"hex\", 4, agg={col: \"mean\" for col in schools_col}\n",
    ")"
   ]
  },
  {
   "cell_type": "code",
   "execution_count": null,
   "metadata": {},
   "outputs": [],
   "source": [
    "# Create a plot for each variable\n",
    "fig, axes = plt.subplots(\n",
    "    nrows=len(schools_col) // 3, ncols=3, figsize=(15, 15), sharex=True, sharey=True\n",
    ")\n",
    "\n",
    "for i, col in enumerate(schools_col):\n",
    "    ax = axes[i // 3, i % 3]\n",
    "    para_hexs_schools_cols_res4.plot(\n",
    "        col,\n",
    "        legend=True,\n",
    "        ax=ax,\n",
    "        cmap=\"magma\",\n",
    "    )\n",
    "    ax.set_title(col)\n",
    "    ax.set_axis_off()\n",
    "    ctx.add_basemap(\n",
    "        ax,\n",
    "        crs=para_hexs_selected_cols.crs.to_string(),\n",
    "        source=ctx.providers.CartoDB.Positron,\n",
    "        attribution=False,\n",
    "    )"
   ]
  },
  {
   "cell_type": "code",
   "execution_count": null,
   "metadata": {},
   "outputs": [],
   "source": [
    "capacity_var_labels = {\n",
    "    \"students_per_professor_FUND\": \"Average # Students per Teacher\",\n",
    "    \"students_per_class_FUND\": \"Average # Students per Class (calculated)\",\n",
    "    \"MAT_FUND\": \"Average # Students per Class (given)\",\n",
    "    \"IED_NIV_1_FUND\": \"Perc. Teachers with effort indicator - Level 1\",\n",
    "    \"IED_NIV_2_FUND\": \"Perc. Teachers with effort indicator - Level 2\",\n",
    "    \"IED_NIV_3_FUND\": \"Perc. Teachers with effort indicator - Level 3\",\n",
    "    \"IED_NIV_4_FUND\": \"Perc. Teachers with effort indicator - Level 4\",\n",
    "    \"IED_NIV_5_FUND\": \"Perc. Teachers with effort indicator - Level 5\",\n",
    "    \"IED_NIV_6_FUND\": \"Perc. Teachers with effort indicator - Level 6\",\n",
    "}"
   ]
  },
  {
   "cell_type": "code",
   "execution_count": null,
   "metadata": {},
   "outputs": [],
   "source": [
    "# Save dataset as parquet file\n",
    "para_hexs_schools_cols.to_parquet(\n",
    "    \"outputs/20240129_para_hexs_with_accessibility_capacity_vars.parquet\"\n",
    ")"
   ]
  },
  {
   "cell_type": "code",
   "execution_count": null,
   "metadata": {},
   "outputs": [],
   "source": [
    "para_hexs_schools_cols.geometry"
   ]
  },
  {
   "cell_type": "code",
   "execution_count": null,
   "metadata": {},
   "outputs": [],
   "source": []
  }
 ],
 "metadata": {
  "kernelspec": {
   "display_name": "Python 3",
   "language": "python",
   "name": "python3"
  },
  "language_info": {
   "codemirror_mode": {
    "name": "ipython",
    "version": 3
   },
   "file_extension": ".py",
   "mimetype": "text/x-python",
   "name": "python",
   "nbconvert_exporter": "python",
   "pygments_lexer": "ipython3",
   "version": "3.11.8"
  },
  "orig_nbformat": 4,
  "vscode": {
   "interpreter": {
    "hash": "3ad933181bd8a04b432d3370b9dc3b0662ad032c4dfaa4e4f1596c548f763858"
   }
  }
 },
 "nbformat": 4,
 "nbformat_minor": 2
}
