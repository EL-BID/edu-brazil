{
 "cells": [
  {
   "cell_type": "code",
   "execution_count": 1,
   "metadata": {},
   "outputs": [],
   "source": [
    "import geopandas as gpd"
   ]
  },
  {
   "cell_type": "code",
   "execution_count": 2,
   "metadata": {},
   "outputs": [],
   "source": [
    "hex_gdf = gpd.read_parquet(\n",
    "    \"outputs/20240129_para_hexs_with_accessibility_capacity_vars.parquet\"\n",
    ")"
   ]
  },
  {
   "cell_type": "code",
   "execution_count": 3,
   "metadata": {},
   "outputs": [
    {
     "data": {
      "text/plain": [
       "Index(['hex', 'territory type', 'population_2020', 'pop_6_14_years_adj',\n",
       "       'income_pc', 'ensino_fundamental', 'duration_to_school_min_by_foot',\n",
       "       'duration_to_school_min_by_foot_cat', 'duration_to_school_min_by_car',\n",
       "       'duration_to_school_min_by_car_cat',\n",
       "       'schools_within_15min_travel_time_foot',\n",
       "       'schools_within_30min_travel_time_foot',\n",
       "       'schools_within_15min_travel_time_car',\n",
       "       'schools_within_30min_travel_time_car', 'geometry',\n",
       "       'students_per_professor_FUND', 'students_per_class_FUND', 'MAT_FUND',\n",
       "       'IED_NIV_1_FUND', 'IED_NIV_2_FUND', 'IED_NIV_3_FUND', 'IED_NIV_4_FUND',\n",
       "       'IED_NIV_5_FUND', 'IED_NIV_6_FUND'],\n",
       "      dtype='object')"
      ]
     },
     "execution_count": 3,
     "metadata": {},
     "output_type": "execute_result"
    }
   ],
   "source": [
    "hex_gdf.columns"
   ]
  },
  {
   "cell_type": "code",
   "execution_count": null,
   "metadata": {},
   "outputs": [],
   "source": []
  }
 ],
 "metadata": {
  "kernelspec": {
   "display_name": ".env",
   "language": "python",
   "name": "python3"
  },
  "language_info": {
   "codemirror_mode": {
    "name": "ipython",
    "version": 3
   },
   "file_extension": ".py",
   "mimetype": "text/x-python",
   "name": "python",
   "nbconvert_exporter": "python",
   "pygments_lexer": "ipython3",
   "version": "3.11.9"
  }
 },
 "nbformat": 4,
 "nbformat_minor": 2
}
